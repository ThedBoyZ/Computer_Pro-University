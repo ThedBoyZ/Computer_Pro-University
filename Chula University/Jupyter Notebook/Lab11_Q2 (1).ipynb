{
  "cells": [
    {
      "attachments": {
        "Lab11_Q2_2.png": {
          "image/png": "[encoded data removed]"
        }
      },
      "cell_type": "markdown",
      "source": [
        "---\n",
        "## Q2 (5 points)\n",
        "จงเขียนโปรแกรมที่รับรหัสนิสิต และ ภาคการศึกษา (1/2/3) แล้วแสดงค่าธรรมเนียมการศึกษาของนิสิตในภาค <br>\n",
        "นั้นตามตารางข้างล่างนี้ซึ่ง เก็บเป็น **dictionary** <br>\n",
        "\n",
        "![Lab11_Q2_2.png](attachment:Lab11_Q2_2.png)\n",
        "\n",
        "เลขหลักที่ 3 (จากหน้า) ของรหัสนิสิตระดับปริญญาบัณฑิต คือ 3, 4 และรหัสนิสิตระดับบัณฑิตศึกษา เป็น 7 <br>\n",
        "เลข 2 หลักสุดท้ายของรหัสนิสิตเป็นรหัสคณะ <br>\n",
        "รหัสคณะในกลุ่ม 1 คือ 21 23 25 28 30 31 32 33 35 36 37 38 39 53  <br>\n",
        "รหัสคณะในกลุ่ม 2 คือ 22 24 26 27 29 34 40 51  <br>\n",
        "และแสดงผลลัพธ์ดังตัวอย่างข้างล่างนี้ <br>\n",
        "\n",
        "จงเขียนฟังก์ชัน `get_dict()` ที่สร้าง dictionary จากตารางค่าเทอม ซึ่งมี <br>\n",
        "\n",
        "- key เป็นสตริงของรหัสคณะในกลุ่ม 1 และ 2 มีค่าเป็น `group1` หรือ `group2`\n",
        "- value เป็น dictionary ที่มี \n",
        "    - key เป็นสตริงของระดับการศึกษา มีค่าเป็น `Bachelor` หรือ `Graduate`\n",
        "    - value เป็น dictionary ที่มี\n",
        "        - key เป็นสตริงของภาคการศึกษา ภาค1/2 มีค่าเป็น `S1_2` หรือ ภาค 3 มีค่าเป็น `S3`\n",
        "        - value เป็น dictionary ที่มี\n",
        "            - key เป็นสตริงของรหัสนิสิต มีค่าเป็น `ID_1` , `ID_2` หรือ `ID_3` สำหรับรหัสนิสิตที่ขึ้นต้นด้วยปี 48-49 , 50-55 และ 56 เป็นต้นไป ตามลำดับ\n",
        "            - value เป็นค่าเทอม\n",
        "\n",
        "และแสดงผลลัพธ์เป็นข้อมูลใน dictionary ตามตัวอย่างการทำงาน\n"
      ],
      "metadata": {
        "deletable": false,
        "editable": false,
        "id": "CsvhfDASHETV",
        "nbgrader": {
          "cell_type": "markdown",
          "checksum": "0f760e7682fb5c2d604fc5cf4a5ceb28",
          "grade": false,
          "grade_id": "cell-dbf37dcea5d7dc5c",
          "locked": true,
          "schema_version": 3,
          "solution": false,
          "task": false
        }
      }
    },
    {
      "cell_type": "markdown",
      "source": [
        "### ตัวอย่างการทำงาน: \n",
        "\n",
        "Enter student ID : **6033235423**<br>\n",
        "Enter semester : **1**<br>\n",
        "Registration fee : 21000"
      ],
      "metadata": {
        "deletable": false,
        "editable": false,
        "id": "TXUopjiEHETf",
        "nbgrader": {
          "cell_type": "markdown",
          "checksum": "d7dd788b1627d4b5ed5b14c2eca3408f",
          "grade": false,
          "grade_id": "cell-7ae57c7b0fc2869d",
          "locked": true,
          "schema_version": 3,
          "solution": false,
          "task": false
        }
      }
    },
    {
      "cell_type": "markdown",
      "source": [
        "### ตัวอย่างการทำงาน: \n",
        "Enter student ID : **6070013223**<br>\n",
        "Enter semester : **2**<br>\n",
        "Registration fee : 31000"
      ],
      "metadata": {
        "deletable": false,
        "editable": false,
        "id": "JEjPMHs-HETg",
        "nbgrader": {
          "cell_type": "markdown",
          "checksum": "b2115e3f20859ab3ab19fc6d2d218390",
          "grade": false,
          "grade_id": "cell-1b10c564484fa711",
          "locked": true,
          "schema_version": 3,
          "solution": false,
          "task": false
        }
      }
    },
    {
      "cell_type": "markdown",
      "source": [
        "### ตัวอย่างการทำงาน: \n",
        "\n",
        "Enter student ID : **5473200022**<br>\n",
        "Enter semester : **3**<br>\n",
        "Registration fee : 7000"
      ],
      "metadata": {
        "deletable": false,
        "editable": false,
        "id": "Vp8lIOVtHETh",
        "nbgrader": {
          "cell_type": "markdown",
          "checksum": "1bcf8ba026c09b835ab4984bf39ff830",
          "grade": false,
          "grade_id": "cell-fc86ada0a7d9d7ee",
          "locked": true,
          "schema_version": 3,
          "solution": false,
          "task": false
        }
      }
    },
    {
      "cell_type": "markdown",
      "source": [
        "### ตัวอย่างการทำงาน: \n",
        "\n",
        "Enter student ID : **5473200022**<br>\n",
        "Enter semester : **0**<br>\n",
        "Invalid semester"
      ],
      "metadata": {
        "deletable": false,
        "editable": false,
        "id": "VR8pt1pUHETi",
        "nbgrader": {
          "cell_type": "markdown",
          "checksum": "2547d82fa13a8d0fa6ada23b3d5fc9fa",
          "grade": false,
          "grade_id": "cell-7756331ade47aa76",
          "locked": true,
          "schema_version": 3,
          "solution": false,
          "task": false
        }
      }
    },
    {
      "cell_type": "markdown",
      "source": [
        "### ตัวอย่างการทำงาน: \n",
        "\n",
        "Enter student ID : **60499**<br>\n",
        "Invalid ID"
      ],
      "metadata": {
        "deletable": false,
        "editable": false,
        "id": "qHt7Pd7nHETk",
        "nbgrader": {
          "cell_type": "markdown",
          "checksum": "f823bd215be9690c2163dda82a84b86a",
          "grade": false,
          "grade_id": "cell-c4bec50505bf5651",
          "locked": true,
          "schema_version": 3,
          "solution": false,
          "task": false
        }
      }
    },
    {
      "cell_type": "markdown",
      "source": [
        "### ตัวอย่างการทำงาน: \n",
        "\n",
        "Enter student ID : **9913235499**<br> \n",
        "Invalid ID"
      ],
      "metadata": {
        "deletable": false,
        "editable": false,
        "id": "hHzaGKvqHETl",
        "nbgrader": {
          "cell_type": "markdown",
          "checksum": "a21b0ad91bf7a91fae4ed7cb5aa81326",
          "grade": false,
          "grade_id": "cell-1da5027704110967",
          "locked": true,
          "schema_version": 3,
          "solution": false,
          "task": false
        }
      }
    },
    {
      "cell_type": "code",
      "source": [
        "def get_dict():\n",
        "    '''สร้าง dictionary ของค่าเทอม แล้วคืนค่า dictionary'''\n",
        "    d={'group1':{'Bachelor':{'S1_2':{'ID_1':16000,'ID_2':18000,'ID_3':21000},\n",
        "                                         'S3':{'ID_1':4000,'ID_2':4500,'ID_3':5250}},\n",
        "                        'Graduate':{'S1_2':{'ID_1':22500,'ID_2':26000,'ID_3':31000},\n",
        "                                       'S3':{'ID_1':6000,'ID_2':7000,'ID_3':7750}}},\n",
        "           'group2':{'Bachelor':{'S1_2':{'ID_1':12000,'ID_2':14500,'ID_3':17000},\n",
        "                                        'S3':{'ID_1':4000,'ID_2':4500,'ID_3':5250}},\n",
        "                         'Graduate':{'S1_2':{'ID_1':16500,'ID_2':19000,'ID_3':23000},\n",
        "                                        'S3':{'ID_1':6000,'ID_2':7000,'ID_3':7750}}}}\n",
        "    return d\n",
        "                 \n",
        "def run():\n",
        "    '''รับเลขประจำตัวนิสิต ตรวจสอบ และแสดงค่าเทอม'''\n",
        "    d=get_dict()\n",
        "    sid=input('Enter student ID : ')\n",
        "    y=int(sid[0:2])\n",
        "    g=int(sid[2:3])\n",
        "    b=int(sid)%100\n",
        "    if (len(sid)==10) and (b in [21,22,23,24,25,26,27,28,29,30,31,32,33,34,35,36,37,38,39,40,53,51]) and (g in [3,4,7]) and (y>=48) :        \n",
        "        sem=int(input('Enter semester : '))\n",
        "        if sem in [1,2,3] :\n",
        "            if b in [21,23,25,28,30,31,32,33,35,36,37,38,39,53] :\n",
        "                if g in [3,4] :\n",
        "                                if sem in [1,2] :\n",
        "                                    if y<=49 :\n",
        "                                        print('Registration fee :',d['group1']['Bachelor']['S1_2']['ID_1'])\n",
        "                                    elif y>=50 and y<=55 :\n",
        "                                        print('Registration fee :',d['group1']['Bachelor']['S1_2']['ID_2'])\n",
        "                                    elif y>=56 :\n",
        "                                        print('Registration fee :',d['group1']['Bachelor']['S1_2']['ID_3'])\n",
        "                                else : \n",
        "                                    if y<=49 :\n",
        "                                        print('Registration fee :',d['group1']['Bachelor']['S3']['ID_1'])\n",
        "                                    elif y>=50 and y<=55 :\n",
        "                                        print('Registration fee :',d['group1']['Bachelor']['S3']['ID_2'])\n",
        "                                    elif y>=56 :\n",
        "                                        print('Registration fee :',d['group1']['Bachelor']['S3']['ID_3'])\n",
        "                else :\n",
        "                                if sem in[1,2] :\n",
        "                                    if y<=49 :\n",
        "                                        print('Registration fee :',d['group1']['Graduate']['S1_2']['ID_1'])\n",
        "                                    elif y>=50 and y<=55:                                                                                  \n",
        "                                        print('Registration fee :',d['group1']['Graduate']['S1_2']['ID_2'])\n",
        "                                    elif y>=56 :\n",
        "                                        print('Registration fee :',d['group1']['Graduate']['S1_2']['ID_3'])   \n",
        "                                else : \n",
        "                                    if y<=49 :\n",
        "                                        print('Registration fee :',d['group1']['Graduate']['S3']['ID_1'])\n",
        "                                    elif y>=50 and y<=55 :\n",
        "                                        print('Registration fee :',d['group1']['Graduate']['S3']['ID_2'])\n",
        "                                    elif y>=56:\n",
        "                                        print('Registration fee :',d['group1']['Graduate']['S3']['ID_3'])\n",
        "            elif b in [22,24,26,27,29,34,40,51] :\n",
        "                if g in [3,4] :\n",
        "                                if sem in [1,2] :\n",
        "                                    if y<=49 :\n",
        "                                        print('Registration fee :',d['group2']['Bachelor']['S1_2']['ID_1'])\n",
        "                                    elif y>=50 and y<=55 :\n",
        "                                        print('Registration fee :',d['group2']['Bachelor']['S1_2']['ID_2'])\n",
        "                                    elif y>=56 :\n",
        "                                        print('Registration fee :',d['group2']['Bachelor']['S1_2']['ID_3'])\n",
        "                                elif g in[3,4]  : \n",
        "                                    if y<=49 :\n",
        "                                        print('Registration fee :',d['group2']['Bachelor']['S3']['ID_1'])\n",
        "                                    elif y>=50 and y<=55 :\n",
        "                                        print('Registration fee :',d['group2']['Bachelor']['S3']['ID_2'])\n",
        "                                    elif y>=56 :\n",
        "                                        print('Registration fee :',d['group2']['Bachelor']['S3']['ID_3'])\n",
        "                else :\n",
        "                                if sem in[1,2] :\n",
        "                                    if y<=49 :\n",
        "                                        print('Registration fee :',d['group2']['Graduate']['S1_2']['ID_1'])\n",
        "                                    elif y>=50 and y<=55:                                                                                  \n",
        "                                        print('Registration fee :',d['group2']['Graduate']['S1_2']['ID_2'])\n",
        "                                    elif y>=56 :\n",
        "                                        print('Registration fee :',d['group2']['Graduate']['S1_2']['ID_3'])   \n",
        "                                else: \n",
        "                                    if y<=49 :\n",
        "                                        print('Registration fee :',d['group2']['Graduate']['S3']['ID_1'])\n",
        "                                    elif y>=50 and y<=55 :\n",
        "                                        print('Registration fee :',d['group2']['Graduate']['S3']['ID_2'])\n",
        "                                    elif y>=56:\n",
        "                                        print('Registration fee :',d['group2']['Graduate']['S3']['ID_3'])\n",
        "                                                            \n",
        "        else :\n",
        "                print('Invalid semester')\n",
        "    else :\n",
        "         print('Invalid ID')"
      ],
      "outputs": [],
      "execution_count": 69,
      "metadata": {
        "deletable": false,
        "id": "kfd9NkfaHETm",
        "nbgrader": {
          "cell_type": "code",
          "checksum": "fef9bbaa758c69d5595afbc72649283e",
          "grade": false,
          "grade_id": "name",
          "locked": false,
          "schema_version": 3,
          "solution": true
        }
      }
    },
    {
      "cell_type": "code",
      "source": [
        "'''ทดสอบ การสร้าง dict'''\n",
        "get_dict()"
      ],
      "outputs": [
        {
          "output_type": "execute_result",
          "execution_count": 70,
          "data": {
            "text/plain": "{'group1': {'Bachelor': {'S1_2': {'ID_1': 16000, 'ID_2': 18000, 'ID_3': 21000},\n   'S3': {'ID_1': 4000, 'ID_2': 4500, 'ID_3': 5250}},\n  'Graduate': {'S1_2': {'ID_1': 22500, 'ID_2': 26000, 'ID_3': 31000},\n   'S3': {'ID_1': 6000, 'ID_2': 7000, 'ID_3': 7750}}},\n 'group2': {'Bachelor': {'S1_2': {'ID_1': 12000, 'ID_2': 14500, 'ID_3': 17000},\n   'S3': {'ID_1': 4000, 'ID_2': 4500, 'ID_3': 5250}},\n  'Graduate': {'S1_2': {'ID_1': 16500, 'ID_2': 19000, 'ID_3': 23000},\n   'S3': {'ID_1': 6000, 'ID_2': 7000, 'ID_3': 7750}}}}"
          },
          "metadata": {}
        }
      ],
      "execution_count": 70,
      "metadata": {
        "id": "wUGJOcd1JCvj"
      }
    },
    {
      "cell_type": "code",
      "source": [
        "'''ตรวจสอบผลการคำนวณและการแสดงผลลัพธ์ให้เหมือนกับโจทย์ที่กำหนดให้'''\n",
        "assert get_dict()['group1'] == {'Bachelor': {'S1_2': {'ID_1': 16000, 'ID_2': 18000, 'ID_3': 21000}, 'S3': {'ID_1': 4000, 'ID_2': 4500, 'ID_3': 5250}}, 'Graduate': {'S1_2': {'ID_1': 22500, 'ID_2': 26000, 'ID_3': 31000}, 'S3': {'ID_1': 6000, 'ID_2': 7000, 'ID_3': 7750}}}\n",
        "assert get_dict()['group1']['Bachelor'] == {'S1_2': {'ID_1': 16000, 'ID_2': 18000, 'ID_3': 21000}, 'S3': {'ID_1': 4000, 'ID_2': 4500, 'ID_3': 5250}}\n",
        "assert get_dict()['group1']['Bachelor']['S3'] == {'ID_1': 4000, 'ID_2': 4500, 'ID_3': 5250}\n",
        "print('OK')"
      ],
      "outputs": [
        {
          "output_type": "stream",
          "name": "stdout",
          "text": "OK\n"
        }
      ],
      "execution_count": 71,
      "metadata": {
        "deletable": false,
        "editable": false,
        "id": "P0MX_TQDHETw",
        "nbgrader": {
          "cell_type": "code",
          "checksum": "7c7dc40f00b88ab69d5c7fe080aa7c05",
          "grade": true,
          "grade_id": "exact",
          "locked": false,
          "points": 1,
          "schema_version": 3,
          "solution": false
        }
      }
    },
    {
      "cell_type": "code",
      "source": [
        "'''ตรวจสอบผลลัพธ์ของโปรแกรมด้วยการรันที่ cell นี้'''\n",
        "run()"
      ],
      "outputs": [
        {
          "output_type": "stream",
          "name": "stdout",
          "text": "Enter student ID : 5473200022\nEnter semester : 0\nInvalid semester\n"
        }
      ],
      "execution_count": 72,
      "metadata": {
        "deletable": false,
        "editable": false,
        "id": "Hw9OHforHETs",
        "nbgrader": {
          "cell_type": "code",
          "checksum": "b7b03893ed0aaf1a2af60ae612b4be37",
          "grade": false,
          "grade_id": "cell-befa13e6c82bd29b",
          "locked": true,
          "schema_version": 3,
          "solution": false,
          "task": false
        },
        "outputId": "73ba543f-83e7-4f40-ec48-5f601bd59845"
      }
    },
    {
      "cell_type": "code",
      "source": [
        "'''ตรวจสอบผลการคำนวณ'''\n",
        "from unittest.mock import patch\n",
        "from io import StringIO\n",
        "\n",
        "def test(inputs,expected_output): \n",
        "    with patch('builtins.input', side_effect=inputs), patch('sys.stdout', new_callable=StringIO) as mock_stdout:\n",
        "        run()\n",
        "        assert mock_stdout.getvalue() == expected_output,mock_stdout.getvalue()"
      ],
      "outputs": [],
      "execution_count": null,
      "metadata": {
        "deletable": false,
        "editable": false,
        "id": "MFEkjSAuHETv",
        "nbgrader": {
          "cell_type": "code",
          "checksum": "db8eee30ed7a6979f93d27c4fec48f9e",
          "grade": false,
          "grade_id": "partial2",
          "locked": true,
          "schema_version": 3,
          "solution": false,
          "task": false
        }
      }
    },
    {
      "cell_type": "code",
      "source": [
        "'''ตรวจสอบผลการคำนวณและการแสดงผลลัพธ์ให้เหมือนกับโจทย์ที่กำหนดให้'''\n",
        "'''ทั่วไป'''\n",
        "test(['5273235421','2'],'Registration fee : 26000\\n')\n",
        "test(['5273235423','3'],'Registration fee : 7000\\n')  \n",
        "test(['6070013223','1'],'Registration fee : 31000\\n') \n",
        "test(['6070013228','3'],'Registration fee : 7750\\n') \n",
        "print('OK')"
      ],
      "outputs": [],
      "execution_count": null,
      "metadata": {
        "deletable": false,
        "editable": false,
        "id": "GinM10IbHETz",
        "nbgrader": {
          "cell_type": "code",
          "checksum": "32999f4fae82a638ed85c629c99526cb",
          "grade": true,
          "grade_id": "cell-25025451c4cc0722",
          "locked": true,
          "points": 1,
          "schema_version": 3,
          "solution": false,
          "task": false
        }
      }
    },
    {
      "cell_type": "code",
      "source": [
        "'''ตรวจสอบผลการคำนวณและการแสดงผลลัพธ์ให้เหมือนกับโจทย์ที่กำหนดให้'''\n",
        "'''Invalid cases'''\n",
        "test(['5443200022','0'],'Invalid semester\\n')  #\n",
        "test(['5443200022','4'],'Invalid semester\\n')  #\n",
        "test(['6433235460'],'Invalid ID\\n')\n",
        "test(['6453235430'],'Invalid ID\\n') \n",
        "test(['4773235430'],'Invalid ID\\n')\n",
        "test(['60499'],'Invalid ID\\n') #\n",
        "print('OK')"
      ],
      "outputs": [],
      "execution_count": null,
      "metadata": {
        "deletable": false,
        "editable": false,
        "id": "mGP2mAejHET0",
        "nbgrader": {
          "cell_type": "code",
          "checksum": "0dc07fccfae08d1a730c37bffbe886cf",
          "grade": true,
          "grade_id": "cell-a7595ca4f976893e",
          "locked": true,
          "points": 1,
          "schema_version": 3,
          "solution": false,
          "task": false
        }
      }
    },
    {
      "cell_type": "code",
      "source": [
        "'''เทสลับ1'''"
      ],
      "outputs": [],
      "execution_count": null,
      "metadata": {
        "deletable": false,
        "editable": false,
        "id": "NcwbMEYrHETx",
        "nbgrader": {
          "cell_type": "code",
          "checksum": "52eda366bff08daa5a39c7dd591b2acc",
          "grade": true,
          "grade_id": "cell-3478c02530c40be9",
          "locked": true,
          "points": 1,
          "schema_version": 3,
          "solution": false,
          "task": false
        }
      }
    },
    {
      "cell_type": "code",
      "source": [
        "'''เทสลับ2'''"
      ],
      "outputs": [],
      "execution_count": null,
      "metadata": {
        "deletable": false,
        "editable": false,
        "nbgrader": {
          "cell_type": "code",
          "checksum": "23e8d54359096b4d45e702c5aa5df4e6",
          "grade": true,
          "grade_id": "cell-8749df472d842678",
          "locked": true,
          "points": 1,
          "schema_version": 3,
          "solution": false,
          "task": false
        }
      }
    },
    {
      "cell_type": "code",
      "source": [],
      "outputs": [],
      "execution_count": null,
      "metadata": {}
    }
  ],
  "metadata": {
    "colab": {
      "collapsed_sections": [],
      "provenance": []
    },
    "kernelspec": {
      "display_name": "Python 3 (ipykernel)",
      "language": "python",
      "name": "python3"
    },
    "language_info": {
      "codemirror_mode": {
        "name": "ipython",
        "version": 3
      },
      "file_extension": ".py",
      "mimetype": "text/x-python",
      "name": "python",
      "nbconvert_exporter": "python",
      "pygments_lexer": "ipython3",
      "version": "3.10.9"
    },
    "nteract": {
      "version": "nteract-front-end@1.0.0"
    }
  },
  "nbformat": 4,
  "nbformat_minor": 1
}