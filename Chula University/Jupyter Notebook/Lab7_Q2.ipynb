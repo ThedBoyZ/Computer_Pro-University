{
 "cells": [
  {
   "cell_type": "markdown",
   "metadata": {
    "deletable": false,
    "editable": false,
    "nbgrader": {
     "cell_type": "markdown",
     "checksum": "938e26f64fdb734c648a86cf69e59484",
     "grade": false,
     "grade_id": "cell-dbf37dcea5d7dc5c",
     "locked": true,
     "schema_version": 3,
     "solution": false,
     "task": false
    }
   },
   "source": [
    "## Q2 (4 points)\n",
    "จงเขียนโปรแกรมที่รับตำแหน่ง (x,y) เริ่มต้นของหุ่นยนต์จากผู้ใช้ (x และ y เป็นจำนวนเต็ม) <br>\n",
    "แล้วอ่านลำดับของคำสั่งที่ให้หุ่นยนต์เดินไปทางซ้าย (L) ขวา (R) ขึ้นบน (U) ลงล่าง (D) ครั้งละ 1 หน่วย <br>\n",
    "จากไฟล์ **move\\<n\\>.txt** แล้วหาว่าเมื่อจบโปรแกรมหุ่นยนต์จะไปอยู่ที่ตำแหน่งใด โดยให้มีกำแพงที่เส้น **x=10, x=-10, y=10 และ y=-10**<br>\n",
    "ถ้าการเดินของหุ่นยนต์จะทำให้หุ่นยนต์ชนกำแพง หุ่นยนต์จะไม่เคลื่อนที่จากตำแหน่งเดิม เช่น \n",
    "เมื่อหุ่นยนต์อยู่ที่ (9,2) และได้คำสั่ง R หุ่นจะชนกำแพงที่เส้น x=10 ดังนั้นจะไม่ขยับตำแหน่ง\n",
    "**ผู้ใช้จะพิมพ์ตำแหน่งเริ่มต้นของหุ่นยนต์ที่อยู่ในกล่องเท่านั้น**"
   ]
  },
  {
   "cell_type": "markdown",
   "metadata": {
    "deletable": false,
    "editable": false,
    "nbgrader": {
     "cell_type": "markdown",
     "checksum": "d9d3d769fb7bc212283e0254a83e2889",
     "grade": false,
     "grade_id": "cell-7ae57c7b0fc2869d",
     "locked": true,
     "schema_version": 3,
     "solution": false,
     "task": false
    }
   },
   "source": [
    "### ตัวอย่างการทำงาน: \n",
    "\n",
    "ไฟล์ move3.txt: <br>\n",
    "L <br>\n",
    "L <br>\n",
    "D <br>\n",
    "R <br>\n",
    "R <br>\n",
    "R <br>\n",
    "R <br>\n",
    "----\n",
    "Choose your movefile: **move3.txt** <br>\n",
    "Initial position : **9,-9** <br>\n",
    "Robot stops at 9,-9"
   ]
  },
  {
   "cell_type": "markdown",
   "metadata": {
    "deletable": false,
    "editable": false,
    "nbgrader": {
     "cell_type": "markdown",
     "checksum": "b88ce6f847ff30d697daa8ab01602f06",
     "grade": false,
     "grade_id": "cell-89fa11d51cba8b35",
     "locked": true,
     "schema_version": 3,
     "solution": false,
     "task": false
    }
   },
   "source": [
    "### ตัวอย่างการทำงาน: \n",
    "\n",
    "ไฟล์ move3.txt:<br>\n",
    "L <br>\n",
    "L <br>\n",
    "D <br>\n",
    "R <br>\n",
    "R <br>\n",
    "R <br>\n",
    "R <br>\n",
    "---\n",
    "Choose your movefile: **move3.txt** <br>\n",
    "Initial position : **8,4** <br>\n",
    "Robot stops at 9,3"
   ]
  },
  {
   "cell_type": "markdown",
   "metadata": {
    "deletable": false,
    "editable": false,
    "nbgrader": {
     "cell_type": "markdown",
     "checksum": "fad9c5ce8002e427bba0143d87fd9b0b",
     "grade": false,
     "grade_id": "cell-8d6f849a001e7146",
     "locked": true,
     "schema_version": 3,
     "solution": false,
     "task": false
    }
   },
   "source": [
    "### ตัวอย่างการทำงาน:\n",
    "\n",
    "ไฟล์ move4.txt: <br>\n",
    "L <br>\n",
    "L <br>\n",
    "X <br>\n",
    "U <br>\n",
    "D <br>\n",
    "Z <br>\n",
    "R <br>\n",
    "----\n",
    "Choose your movefile: **move4.txt** <br>\n",
    "Initial position : **1,2** <br>\n",
    "Invalid command"
   ]
  },
  {
   "cell_type": "code",
   "execution_count": 4,
   "metadata": {
    "deletable": false,
    "nbgrader": {
     "cell_type": "code",
     "checksum": "f890af7f5634c9ae49d370cf87f48efc",
     "grade": false,
     "grade_id": "answer",
     "locked": false,
     "schema_version": 3,
     "solution": true
    }
   },
   "outputs": [],
   "source": [
    "def run():\n",
    "    a = input('Choose your movefile: ')\n",
    "    if a == 'move1.txt' :\n",
    "        f = open('move1.txt','r')\n",
    "    elif a == 'move2.txt' :\n",
    "        f = open('move2.txt','r')\n",
    "    elif a == 'move3.txt' :\n",
    "        f = open('move3.txt','r')\n",
    "    elif a == 'move4.txt' :\n",
    "        f = open('move4.txt','r')\n",
    "    p = input('Initial position : ')\n",
    "    x,y = p.split(',')\n",
    "    x = int(x)\n",
    "    y = int(y)\n",
    "    check = 'Valid'\n",
    "    for line in f :\n",
    "        line = line.strip()\n",
    "        if line == 'L' :\n",
    "            if x-1 == -10 or x-1 == 10 :\n",
    "                continue\n",
    "            else :\n",
    "                x = x-1\n",
    "        elif line == 'R' :\n",
    "            if x+1 == -10 or x+1 == 10 :\n",
    "                continue\n",
    "            else :\n",
    "                x=x+1\n",
    "        elif line == 'U' :\n",
    "            if y+1 == -10 or y+1 == 10 :\n",
    "                continue\n",
    "            else :\n",
    "                y = y+1\n",
    "        elif line == 'D' :\n",
    "            if y-1 == -10 or y-1 == 10 :\n",
    "                continue\n",
    "            else :\n",
    "                y = y-1\n",
    "        else :\n",
    "            check = 'Invalid'\n",
    "    f.close()\n",
    "    if check == 'Valid' :\n",
    "        print('Robot stops at',str(x)+','+str(y))\n",
    "    else :\n",
    "        print('Invalid command')"
   ]
  },
  {
   "cell_type": "code",
   "execution_count": 6,
   "metadata": {
    "deletable": false,
    "editable": false,
    "nbgrader": {
     "cell_type": "code",
     "checksum": "b7b03893ed0aaf1a2af60ae612b4be37",
     "grade": false,
     "grade_id": "cell-befa13e6c82bd29b",
     "locked": true,
     "schema_version": 3,
     "solution": false,
     "task": false
    }
   },
   "outputs": [
    {
     "name": "stdout",
     "output_type": "stream",
     "text": [
      "Choose your movefile: move4.txt\n",
      "Initial position : 1,2\n",
      "Invalid command\n"
     ]
    }
   ],
   "source": [
    "'''ตรวจสอบผลลัพธ์ของโปรแกรมด้วยการรันที่ cell นี้'''\n",
    "run()"
   ]
  },
  {
   "cell_type": "code",
   "execution_count": 8,
   "metadata": {
    "deletable": false,
    "editable": false,
    "nbgrader": {
     "cell_type": "code",
     "checksum": "29361a7559eec5fcb9829ab4899438a4",
     "grade": false,
     "grade_id": "partial",
     "locked": true,
     "schema_version": 3,
     "solution": false,
     "task": false
    }
   },
   "outputs": [],
   "source": [
    "'''ตรวจสอบผลการคำนวณ'''\n",
    "from unittest.mock import patch\n",
    "from io import StringIO\n",
    "import math\n",
    "\n",
    "def test(inputs,expected_output): \n",
    "    with patch('builtins.input', side_effect=inputs), patch('sys.stdout', new_callable=StringIO) as mock_stdout:\n",
    "        run()\n",
    "        assert mock_stdout.getvalue() == expected_output,mock_stdout.getvalue()"
   ]
  },
  {
   "cell_type": "code",
   "execution_count": 9,
   "metadata": {
    "deletable": false,
    "editable": false,
    "nbgrader": {
     "cell_type": "code",
     "checksum": "0577d397efccd04e42d1251fd451866e",
     "grade": true,
     "grade_id": "exact",
     "locked": false,
     "points": 1,
     "schema_version": 3,
     "solution": false
    }
   },
   "outputs": [],
   "source": [
    "'''ตรวจสอบผลการคำนวณและการแสดงผลลัพธ์ให้เหมือนกับโจทย์ที่กำหนดให้'''\n",
    "'''Robot can stop at position x,y'''\n",
    "test(['move3.txt','9,-9'],'Robot stops at 9,-9\\n') #ex\n",
    "test(['move3.txt','8,4'],'Robot stops at 9,3\\n') #ex\n",
    "test(['move3.txt','9,5'],'Robot stops at 9,4\\n') # ++\n",
    "test(['move3.txt','-5,5'],'Robot stops at -3,4\\n')  #-+\n",
    "test(['move3.txt','-1,-1'],'Robot stops at 1,-2\\n')  #--"
   ]
  },
  {
   "cell_type": "code",
   "execution_count": 10,
   "metadata": {
    "deletable": false,
    "editable": false,
    "nbgrader": {
     "cell_type": "code",
     "checksum": "08f3234d838fe3aaa81f28c5ee45e4d3",
     "grade": true,
     "grade_id": "cell-a07ef84aa3313800",
     "locked": true,
     "points": 1,
     "schema_version": 3,
     "solution": false,
     "task": false
    }
   },
   "outputs": [],
   "source": [
    "'''ตรวจสอบผลการคำนวณและการแสดงผลลัพธ์ให้เหมือนกับโจทย์ที่กำหนดให้'''\n",
    "'''Invalid command'''\n",
    "test(['move4.txt','15,20'],'Invalid command\\n') #\n",
    "test(['move4.txt','1,1'],'Invalid command\\n') #\n",
    "test(['move4.txt','1,2'],'Invalid command\\n') #ex"
   ]
  },
  {
   "cell_type": "code",
   "execution_count": null,
   "metadata": {
    "deletable": false,
    "editable": false,
    "nbgrader": {
     "cell_type": "code",
     "checksum": "82fdc8c0ab99a4519623dd406c4519de",
     "grade": true,
     "grade_id": "cell-fe7e7b9c9df1b4e6",
     "locked": true,
     "points": 1,
     "schema_version": 3,
     "solution": false,
     "task": false
    }
   },
   "outputs": [],
   "source": [
    "'''เทสลับ1'''"
   ]
  },
  {
   "cell_type": "code",
   "execution_count": null,
   "metadata": {
    "deletable": false,
    "editable": false,
    "nbgrader": {
     "cell_type": "code",
     "checksum": "1e1d51fb4e7eed8dad0bec977b334436",
     "grade": true,
     "grade_id": "cell-ad91ccd55eeb0c2f",
     "locked": true,
     "points": 1,
     "schema_version": 3,
     "solution": false,
     "task": false
    }
   },
   "outputs": [],
   "source": [
    "'''เทสลับ2'''"
   ]
  }
 ],
 "metadata": {
  "kernelspec": {
   "display_name": "Python 3 (ipykernel)",
   "language": "python",
   "name": "python3"
  },
  "language_info": {
   "codemirror_mode": {
    "name": "ipython",
    "version": 3
   },
   "file_extension": ".py",
   "mimetype": "text/x-python",
   "name": "python",
   "nbconvert_exporter": "python",
   "pygments_lexer": "ipython3",
   "version": "3.9.12"
  },
  "vscode": {
   "interpreter": {
    "hash": "318f2c383d48220c821fefd227250c35bb828f95042f5889a5ad1704b1baf79c"
   }
  }
 },
 "nbformat": 4,
 "nbformat_minor": 1
}
