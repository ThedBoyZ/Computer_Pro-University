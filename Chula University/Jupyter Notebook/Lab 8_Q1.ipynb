{
 "cells": [
  {
   "cell_type": "markdown",
   "metadata": {
    "deletable": false,
    "editable": false,
    "id": "rvpqm3gKNIKP",
    "nbgrader": {
     "cell_type": "markdown",
     "checksum": "879037e1a9c250ab9ca55a9aa1cc59af",
     "grade": false,
     "grade_id": "cell-dbf37dcea5d7dc5c",
     "locked": true,
     "schema_version": 3,
     "solution": false,
     "task": false
    }
   },
   "source": [
    "## Q1 (8 points)\n",
    "จงเขียนโปรแกรมที่อ่านเวกเตอร์ 2 เวกเตอร์จากไฟล์ vectors\\<n\\>.txt แล้วตรวจสอบว่ามีขนาดเท่ากันหรือไม่  <br>\n",
    "- ถ้าไม่เท่ากัน จะแสดงข้อความว่า Incompatible size\n",
    "- ถ้าเท่ากัน จะหา dot product ของเวกเตอร์ทั้งสอง <br>\n",
    "\n",
    "สิ่งที่ต้องทำคือ\n",
    "\n",
    "- สร้างฟังก์ชัน is_equal(v1,v2) เพื่อตรวจสอบความยาวของเวกเตอร์ทั้งสองเท่ากันหรือไม่ คืนค่าเป็น True หรือ False\n",
    "- สร้างฟังก์ชัน dot(v1,v2) เพื่อหา dot product ของเวกเตอร์ทั้งสอง คืนค่าเป็น ผลรวมของ dot product\n",
    "- สร้างฟังก์ชัน convert_to_float(v) เพื่อแปลงประเภทข้อมูลให้เป็น float คืนค่าเป็น v1 และ v2 ที่เป็นลิสต์\n",
    "- สร้างฟังก์ชัน read_file_vectors(filename) เพื่ออ่านไฟล์และจัดรูปแบบเป็นลิสต์ คืนค่าเป็น v1 และ v2 ที่เป็นลิสต์\n",
    "\n",
    "และแสดงผลลัพธ์ดังตัวอย่างข้างล่างนี้"
   ]
  },
  {
   "cell_type": "markdown",
   "metadata": {
    "deletable": false,
    "editable": false,
    "id": "mKyNIWW9NIKa",
    "nbgrader": {
     "cell_type": "markdown",
     "checksum": "a6af44926ff69e8fbc76fbe6733bd7d3",
     "grade": false,
     "grade_id": "cell-7ae57c7b0fc2869d",
     "locked": true,
     "schema_version": 3,
     "solution": false,
     "task": false
    }
   },
   "source": [
    "### ตัวอย่างการทำงาน: \n",
    "\n",
    "ไฟล์ vectors1.txt:  <br>\n",
    "6 4 9 6 -4 7 <br>\n",
    "3 7 -3 9 -5 1 <br>\n",
    "---\n",
    "Choose your vector file: **vectors1.txt** <br>\n",
    "v1 = [6.0, 4.0, 9.0, 6.0, -4.0, 7.0] <br>\n",
    "v2 = [3.0, 7.0, -3.0, 9.0, -5.0, 1.0] <br>\n",
    "v1*v2 = 100.0"
   ]
  },
  {
   "cell_type": "markdown",
   "metadata": {
    "deletable": false,
    "editable": false,
    "id": "N0Uaat6MNIKd",
    "nbgrader": {
     "cell_type": "markdown",
     "checksum": "f8a0c2c8ffe43980fb1c57982941bea9",
     "grade": false,
     "grade_id": "cell-1b10c564484fa711",
     "locked": true,
     "schema_version": 3,
     "solution": false,
     "task": false
    }
   },
   "source": [
    "### ตัวอย่างการทำงาน: \n",
    "\n",
    "ไฟล์ vectors2.txt: <br>\n",
    "6 4 9 6 -4 7 <br>\n",
    "3 7 -3 <br>\n",
    "---\n",
    "Choose your vector file: **vectors2.txt** <br>\n",
    "v1 = [6.0, 4.0, 9.0, 6.0, -4.0, 7.0] <br>\n",
    "v2 = [3.0, 7.0, -3.0] <br>\n",
    "Incompatible size"
   ]
  },
  {
   "cell_type": "markdown",
   "metadata": {
    "deletable": false,
    "editable": false,
    "id": "4kLRlnCvNIKe",
    "nbgrader": {
     "cell_type": "markdown",
     "checksum": "c0438778fd26c00c65a41a8ee1c5fb39",
     "grade": false,
     "grade_id": "cell-f2a61b7ae4fb334b",
     "locked": true,
     "schema_version": 3,
     "solution": false,
     "task": false
    }
   },
   "source": [
    "### ตัวอย่างการทำงาน: \n",
    "\n",
    "ไฟล์ vectors3.txt: <br>\n",
    "5.5 4.5 9.5 6 -4 7 <br>\n",
    "3 7.1 -3.5 5 6 9 <br>\n",
    "\n",
    "Choose your vector file: **vectors3.txt** <br>\n",
    "v1 = [5.5, 4.5, 9.5, 6.0, -4.0, 7.0] <br>\n",
    "v2 = [3.0, 7.1, -3.5, 5.0, 6.0, 9.0] <br>\n",
    "v1*v2 = 84.2"
   ]
  },
  {
   "cell_type": "markdown",
   "metadata": {
    "deletable": false,
    "editable": false,
    "id": "Ou8pjIuENIKf",
    "nbgrader": {
     "cell_type": "markdown",
     "checksum": "1c53f15e57b367800296b8b78f60fe81",
     "grade": false,
     "grade_id": "cell-3c3965a8716444b1",
     "locked": true,
     "schema_version": 3,
     "solution": false,
     "task": false
    }
   },
   "source": [
    "### ตัวอย่างการทำงาน: \n",
    "\n",
    "ไฟล์ vectors4.txt: <br>\n",
    "5.5 4 -9 6 -4 <br>\n",
    "3 -7.1 0  <br>\n",
    "\n",
    "Choose your vector file: **vectors4.txt** <br>\n",
    "v1 = [5.5, 4.0, -9.0, 6.0, -4.0] <br>\n",
    "v2 = [3.0, -7.1, 0.0] <br>\n",
    "Incompatible size <br>"
   ]
  },
  {
   "cell_type": "code",
   "execution_count": 39,
   "metadata": {
    "deletable": false,
    "id": "lLnZ2qemNIKh",
    "nbgrader": {
     "cell_type": "code",
     "checksum": "57690ad2731812c614e7e8e1e9a7e434",
     "grade": false,
     "grade_id": "name",
     "locked": false,
     "schema_version": 3,
     "solution": true
    }
   },
   "outputs": [],
   "source": [
    "def is_equal(v1,v2):\n",
    "    if len(v1) == len(v2) :\n",
    "        return True\n",
    "    else :\n",
    "        return False\n",
    "def dot(v1,v2):\n",
    "    b = 0\n",
    "    for i in range (len(v1)) :\n",
    "        a = v1[i]*v2[i]\n",
    "        b = a+b\n",
    "    return b\n",
    "def convert_to_float(v):\n",
    "    return [float(x) for x in v]\n",
    "def read_file_vectors(filename):\n",
    "    f = open(filename,'r') \n",
    "    lines = f.read().splitlines()\n",
    "    v1 = lines[0].split()\n",
    "    v2 = lines[1].split()\n",
    "    f.close()\n",
    "    return (v1,v2)\n",
    "def run():\n",
    "    x = input('Choose your vector file: ')\n",
    "    y = read_file_vectors(x)\n",
    "    v1 = convert_to_float(y[0])\n",
    "    v2 = convert_to_float(y[1])\n",
    "    print( \"v1 =\",v1 )\n",
    "    print( \"v2 =\",v2 )\n",
    "    if is_equal(v1,v2) :\n",
    "        print('v1*v2 =',dot(v1,v2))\n",
    "    else :\n",
    "        print('Incompatible size')"
   ]
  },
  {
   "cell_type": "code",
   "execution_count": 41,
   "metadata": {
    "deletable": false,
    "editable": false,
    "id": "ewhAzgW8NIKl",
    "nbgrader": {
     "cell_type": "code",
     "checksum": "b7b03893ed0aaf1a2af60ae612b4be37",
     "grade": false,
     "grade_id": "cell-befa13e6c82bd29b",
     "locked": true,
     "schema_version": 3,
     "solution": false,
     "task": false
    },
    "outputId": "5178efdf-16e3-4c77-b375-b5b75924c4c4"
   },
   "outputs": [
    {
     "name": "stdout",
     "output_type": "stream",
     "text": [
      "Choose your vector file: vector4.txt\n",
      "v1 = [5.5, 4.0, -9.0, 6.0, -4.0]\n",
      "v2 = [3.0, -7.1, 0.0]\n",
      "Incompatible size\n"
     ]
    }
   ],
   "source": [
    "'''ตรวจสอบผลลัพธ์ของโปรแกรมด้วยการรันที่ cell นี้'''\n",
    "run()"
   ]
  },
  {
   "cell_type": "code",
   "execution_count": 42,
   "metadata": {
    "deletable": false,
    "editable": false,
    "id": "TsLMT-4GNIKo",
    "nbgrader": {
     "cell_type": "code",
     "checksum": "8d13646834a2e59ad65840e2a732ea5d",
     "grade": false,
     "grade_id": "partial",
     "locked": true,
     "schema_version": 3,
     "solution": false,
     "task": false
    }
   },
   "outputs": [],
   "source": [
    "'''ตรวจสอบผลการคำนวณ'''\n",
    "from unittest.mock import patch\n",
    "from io import StringIO\n",
    "\n",
    "def test(inputs,expected_output): \n",
    "    with patch('builtins.input', side_effect=inputs), patch('sys.stdout', new_callable=StringIO) as mock_stdout:\n",
    "        run()\n",
    "        assert mock_stdout.getvalue() == expected_output,mock_stdout.getvalue()"
   ]
  },
  {
   "cell_type": "code",
   "execution_count": 43,
   "metadata": {
    "deletable": false,
    "editable": false,
    "nbgrader": {
     "cell_type": "code",
     "checksum": "a771a3450de21b98a3e14b322c8d5eed",
     "grade": true,
     "grade_id": "cell-011068f4667a47f7",
     "locked": true,
     "points": 1,
     "schema_version": 3,
     "solution": false,
     "task": false
    }
   },
   "outputs": [
    {
     "name": "stdout",
     "output_type": "stream",
     "text": [
      "OK\n"
     ]
    }
   ],
   "source": [
    "'''ตรวจสอบฟังก์ชัน is_equal'''\n",
    "assert is_equal([6.0, 4.0, 9.0, 6.0, -4.0, 7.0],[3.0, 7.0, -3.0, 9.0, -5.0, 1.0]) == True\n",
    "assert is_equal([1.0,2.0,3.0],[4.0,-5.1,-99.2]) == True\n",
    "assert is_equal([1.0,2.0],[4.0,-5.1,-99.2]) == False\n",
    "print('OK')"
   ]
  },
  {
   "cell_type": "code",
   "execution_count": 44,
   "metadata": {
    "deletable": false,
    "editable": false,
    "nbgrader": {
     "cell_type": "code",
     "checksum": "8dbed64b9c599008ab302aee4dc0a525",
     "grade": true,
     "grade_id": "cell-231eb21054e1c1a8",
     "locked": true,
     "points": 1,
     "schema_version": 3,
     "solution": false,
     "task": false
    }
   },
   "outputs": [
    {
     "name": "stdout",
     "output_type": "stream",
     "text": [
      "OK\n"
     ]
    }
   ],
   "source": [
    "'''ตรวจสอบฟังก์ชัน dot'''\n",
    "assert dot([6.0, 4.0, 9.0, 6.0, -4.0, 7.0],[3.0, 7.0, -3.0, 9.0, -5.0, 1.0]) == 100.0\n",
    "assert dot([1.0,2.0,3.0],[4.0,-5.1,-99.2]) == -303.8\n",
    "print('OK')"
   ]
  },
  {
   "cell_type": "code",
   "execution_count": 45,
   "metadata": {
    "deletable": false,
    "editable": false,
    "nbgrader": {
     "cell_type": "code",
     "checksum": "6a6338f742e5982f8551f1a613a97352",
     "grade": true,
     "grade_id": "cell-8552f0d30ed86b38",
     "locked": true,
     "points": 1,
     "schema_version": 3,
     "solution": false,
     "task": false
    }
   },
   "outputs": [
    {
     "name": "stdout",
     "output_type": "stream",
     "text": [
      "OK\n"
     ]
    }
   ],
   "source": [
    "'''ตรวจสอบฟังก์ชัน convert_to_float'''\n",
    "assert convert_to_float(['1','2','3']) == [1.0,2.0,3.0]\n",
    "assert convert_to_float(['-55','-81','0.01']) == [-55.0, -81.0, 0.01]\n",
    "print('OK')"
   ]
  },
  {
   "cell_type": "code",
   "execution_count": 46,
   "metadata": {
    "deletable": false,
    "editable": false,
    "nbgrader": {
     "cell_type": "code",
     "checksum": "2d7d8427d42a5eb2f4a65d91658b29e7",
     "grade": true,
     "grade_id": "cell-85b6a73599b8dcea",
     "locked": true,
     "points": 1,
     "schema_version": 3,
     "solution": false,
     "task": false
    }
   },
   "outputs": [
    {
     "name": "stdout",
     "output_type": "stream",
     "text": [
      "OK\n"
     ]
    }
   ],
   "source": [
    "'''ตรวจสอบฟังก์ชัน read_file_vectors'''\n",
    "assert read_file_vectors('vector2.txt') == (['6', '4', '9', '6', '-4', '7'], ['3', '7', '-3'])\n",
    "assert read_file_vectors('vector3.txt') == (['5.5', '4.5', '9.5', '6', '-4', '7'], ['3', '7.1', '-3.5', '5', '6', '9'])\n",
    "print('OK')"
   ]
  },
  {
   "cell_type": "code",
   "execution_count": 47,
   "metadata": {
    "deletable": false,
    "editable": false,
    "id": "fxAL4Ns_NIKq",
    "nbgrader": {
     "cell_type": "code",
     "checksum": "826912028db279bf66cff6cd2f33ee5e",
     "grade": true,
     "grade_id": "exact",
     "locked": false,
     "points": 1,
     "schema_version": 3,
     "solution": false
    }
   },
   "outputs": [
    {
     "name": "stdout",
     "output_type": "stream",
     "text": [
      "OK\n"
     ]
    }
   ],
   "source": [
    "'''ตรวจสอบผลการคำนวณและการแสดงผลลัพธ์ให้เหมือนกับโจทย์ที่กำหนดให้'''\n",
    "'''Vector dot product'''\n",
    "test(['vector1.txt'],'v1 = [6.0, 4.0, 9.0, 6.0, -4.0, 7.0]\\nv2 = [3.0, 7.0, -3.0, 9.0, -5.0, 1.0]\\nv1*v2 = 100.0\\n')\n",
    "test(['vector3.txt'],'v1 = [5.5, 4.5, 9.5, 6.0, -4.0, 7.0]\\nv2 = [3.0, 7.1, -3.5, 5.0, 6.0, 9.0]\\nv1*v2 = 84.2\\n')\n",
    "print('OK')"
   ]
  },
  {
   "cell_type": "code",
   "execution_count": 48,
   "metadata": {
    "deletable": false,
    "editable": false,
    "id": "ovZ8VVdbNIKr",
    "nbgrader": {
     "cell_type": "code",
     "checksum": "5078af069ab8bd45d0a89325060b30f8",
     "grade": true,
     "grade_id": "cell-cbc47179f27fefee",
     "locked": true,
     "points": 1,
     "schema_version": 3,
     "solution": false,
     "task": false
    }
   },
   "outputs": [
    {
     "name": "stdout",
     "output_type": "stream",
     "text": [
      "OK\n"
     ]
    }
   ],
   "source": [
    "'''ตรวจสอบผลการคำนวณและการแสดงผลลัพธ์ให้เหมือนกับโจทย์ที่กำหนดให้'''\n",
    "'''Incompatible size'''\n",
    "test(['vector2.txt'],'v1 = [6.0, 4.0, 9.0, 6.0, -4.0, 7.0]\\nv2 = [3.0, 7.0, -3.0]\\nIncompatible size\\n')\n",
    "test(['vector4.txt'],'v1 = [5.5, 4.0, -9.0, 6.0, -4.0]\\nv2 = [3.0, -7.1, 0.0]\\nIncompatible size\\n')\n",
    "print('OK')"
   ]
  },
  {
   "cell_type": "code",
   "execution_count": null,
   "metadata": {
    "deletable": false,
    "editable": false,
    "id": "yLn_Xy86NIKs",
    "nbgrader": {
     "cell_type": "code",
     "checksum": "5b7f33203298105541190ad1d2bf2616",
     "grade": true,
     "grade_id": "cell-bae5e23d18255008",
     "locked": true,
     "points": 1,
     "schema_version": 3,
     "solution": false,
     "task": false
    }
   },
   "outputs": [],
   "source": [
    "'''เทสลับ1'''"
   ]
  },
  {
   "cell_type": "code",
   "execution_count": null,
   "metadata": {
    "deletable": false,
    "editable": false,
    "id": "wZnAHnt0NIKt",
    "nbgrader": {
     "cell_type": "code",
     "checksum": "c314a295bf898bf49c2e8626e4428eee",
     "grade": true,
     "grade_id": "cell-c5c71f7cd97f1236",
     "locked": true,
     "points": 1,
     "schema_version": 3,
     "solution": false,
     "task": false
    }
   },
   "outputs": [],
   "source": [
    "'''เทสลับ2'''"
   ]
  }
 ],
 "metadata": {
  "colab": {
   "provenance": []
  },
  "kernelspec": {
   "display_name": "Python 3 (ipykernel)",
   "language": "python",
   "name": "python3"
  },
  "language_info": {
   "codemirror_mode": {
    "name": "ipython",
    "version": 3
   },
   "file_extension": ".py",
   "mimetype": "text/x-python",
   "name": "python",
   "nbconvert_exporter": "python",
   "pygments_lexer": "ipython3",
   "version": "3.9.12"
  }
 },
 "nbformat": 4,
 "nbformat_minor": 1
}
