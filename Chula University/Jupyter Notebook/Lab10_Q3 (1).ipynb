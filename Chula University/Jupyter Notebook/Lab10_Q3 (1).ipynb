{
  "cells": [
    {
      "cell_type": "markdown",
      "source": [
        "## Q3 (4 points)\n",
        "จงเขียนโปรแกรมที่อ่านไฟล์ studentScore.txt ที่มีรายชื่อนักเรียนและคะแนนสอบดังแสดงในตัวอย่างข้างล่างเก็บเป็น dictionary แล้วแสดงชื่อนักเรียนเรียงจากคะแนนสูงสุดไปต่ำสุด กำหนดให้ ไม่มีใครได้คะแนนเท่ากัน"
      ],
      "metadata": {
        "nbgrader": {
          "grade": false,
          "grade_id": "cell-dbf37dcea5d7dc5c",
          "locked": true,
          "schema_version": 3,
          "solution": false,
          "task": false
        },
        "id": "PhQcc6OExM5e"
      }
    },
    {
      "cell_type": "code",
      "source": [],
      "outputs": [],
      "execution_count": null,
      "metadata": {
        "id": "amZmPwoSxQxs"
      }
    },
    {
      "cell_type": "markdown",
      "source": [
        "### ตัวอย่างไฟล์ studentScore1.txt: \n",
        "\n",
        "Piti 25 <br>\n",
        "Mana 32 <br>\n",
        "Ari 19 <br>\n",
        "Suda 28 <br>\n",
        "Somsak 26 <br>"
      ],
      "metadata": {
        "nbgrader": {
          "grade": false,
          "grade_id": "cell-03f39e4ccd9fcca1",
          "locked": true,
          "schema_version": 3,
          "solution": false,
          "task": false
        },
        "id": "mLVBDCwlxM5l"
      }
    },
    {
      "cell_type": "markdown",
      "source": [
        "### ตัวอย่างไฟล์ studentScore2.txt: \n",
        "\n",
        "Manee 22 <br>\n",
        "Piti 32 <br>\n",
        "Ton 35 <br>\n",
        "Tree 21 <br>\n",
        "Siri 23 <br>\n",
        "Mon 20 <br>"
      ],
      "metadata": {
        "nbgrader": {
          "grade": false,
          "grade_id": "cell-c5c873cd4b0d9800",
          "locked": true,
          "schema_version": 3,
          "solution": false,
          "task": false
        },
        "id": "GqycvifXxM5l"
      }
    },
    {
      "cell_type": "markdown",
      "source": [
        "### ตัวอย่างการทำงาน: \n",
        "Choose your studentScore: **studentScore1.txt** <br>\n",
        "Mana <br>\n",
        "Suda <br>\n",
        "Somsak <br>\n",
        "Piti <br>\n",
        "Ari <br>"
      ],
      "metadata": {
        "nbgrader": {
          "grade": false,
          "grade_id": "cell-e02bd30c7ce943f0",
          "locked": true,
          "schema_version": 3,
          "solution": false,
          "task": false
        },
        "id": "ngmWjxTqxM5m"
      }
    },
    {
      "cell_type": "markdown",
      "source": [
        "### ตัวอย่างการทำงาน: \n",
        "Choose your studentScore: **studentScore2.txt** <br>\n",
        "Ton <br>\n",
        "Piti <br>\n",
        "Siri <br>\n",
        "Manee <br>\n",
        "Tree <br>"
      ],
      "metadata": {
        "nbgrader": {
          "grade": false,
          "grade_id": "cell-807edfbdea063af2",
          "locked": true,
          "schema_version": 3,
          "solution": false,
          "task": false
        },
        "id": "-aANZl9mxM5m"
      }
    },
    {
      "cell_type": "code",
      "source": [
        "def get_dict(file_name):\n",
        "    st = open(file_name, 'r')\n",
        "    sdict = {}    \n",
        "    for line in st :\n",
        "        name,score = line.split()\n",
        "        score = int(score)\n",
        "        sdict[name] = score\n",
        "    st.close()\n",
        "    return sdict\n",
        "    \n",
        "def run():\n",
        "    p = input('Choose your studentScore: ')\n",
        "    sdict = get_dict(p)\n",
        "    scoredict = []\n",
        "    for val in sdict.values():\n",
        "        scoredict.append(val)\n",
        "    scoredict.sort(reverse = True)\n",
        "\n",
        "    list =[]\n",
        "    for i in scoredict:     \n",
        "        for j in sdict :\n",
        "            if i == sdict[j] and j not in list :\n",
        "                list.append(j)\n",
        "    for q in list :\n",
        "        print(q)           "
      ],
      "outputs": [],
      "execution_count": null,
      "metadata": {
        "nbgrader": {
          "grade": false,
          "grade_id": "name",
          "locked": false,
          "schema_version": 3,
          "solution": true
        },
        "id": "PNEwaPMqxM5n"
      }
    },
    {
      "cell_type": "code",
      "source": [
        "'''ตรวจสอบผลลัพธ์ของโปรแกรมด้วยการรันที่ cell นี้'''\n",
        "run()"
      ],
      "outputs": [
        {
          "output_type": "stream",
          "name": "stdout",
          "text": "Choose your studentScore: studentScore3.txt\nKim\nTon\nPiti\nSiri\nManee\nTree\nMon\nLisa\n"
        }
      ],
      "execution_count": null,
      "metadata": {
        "nbgrader": {
          "grade": false,
          "grade_id": "cell-befa13e6c82bd29b",
          "locked": true,
          "schema_version": 3,
          "solution": false,
          "task": false
        },
        "id": "OsucJINuxM5q",
        "outputId": "11412e5e-c557-4904-8548-a21bd5189981"
      }
    },
    {
      "cell_type": "code",
      "source": [
        "'''ตรวจสอบผลการคำนวณ'''\n",
        "from unittest.mock import patch\n",
        "from io import StringIO\n",
        "\n",
        "def test(inputs,expected_output): \n",
        "    with patch('builtins.input', side_effect=inputs), patch('sys.stdout', new_callable=StringIO) as mock_stdout:\n",
        "        run()\n",
        "        assert mock_stdout.getvalue() == expected_output,mock_stdout.getvalue()       "
      ],
      "outputs": [],
      "execution_count": null,
      "metadata": {
        "nbgrader": {
          "grade": false,
          "grade_id": "partial3",
          "locked": true,
          "schema_version": 3,
          "solution": false,
          "task": false
        },
        "id": "oJMaNb3axM5r"
      }
    },
    {
      "cell_type": "code",
      "source": [
        "'''ตรวจสอบผลการคำนวณและการแสดงผลลัพธ์ให้เหมือนกับโจทย์ที่กำหนดให้'''\n",
        "assert get_dict('studentScore1.txt') == {'Piti': 25, 'Mana': 32, 'Ari': 19, 'Suda': 28, 'Somsak': 26}\n",
        "assert get_dict('studentScore2.txt') == {'Manee': 22, 'Piti': 32, 'Ton': 35, 'Tree': 21, 'Siri': 23, 'Mon': 20}\n",
        "print('OK')"
      ],
      "outputs": [],
      "execution_count": null,
      "metadata": {
        "nbgrader": {
          "grade": true,
          "grade_id": "cell-159cd7c85a0c7a54",
          "locked": true,
          "points": 1,
          "schema_version": 3,
          "solution": false,
          "task": false
        },
        "id": "AN5MQc3ZxM5s"
      }
    },
    {
      "cell_type": "code",
      "source": [
        "'''ตรวจสอบผลการคำนวณและการแสดงผลลัพธ์ให้เหมือนกับโจทย์ที่กำหนดให้'''\n",
        "test(['studentScore1.txt'],'Mana\\nSuda\\nSomsak\\nPiti\\nAri\\n') \n",
        "test(['studentScore2.txt'],'Ton\\nPiti\\nSiri\\nManee\\nTree\\nMon\\n') \n",
        "print('OK')"
      ],
      "outputs": [],
      "execution_count": null,
      "metadata": {
        "nbgrader": {
          "grade": true,
          "grade_id": "exact",
          "locked": false,
          "points": 1,
          "schema_version": 3,
          "solution": false
        },
        "id": "hPSMDSgBxM5t"
      }
    },
    {
      "cell_type": "code",
      "source": [
        "'เทสลับ'\n",
        "### BEGIN HIDDEN TESTS\n",
        "assert get_dict('studentScore3.txt') == {'Manee': 22, 'Piti': 32, 'Ton': 35, 'Tree': 21, 'Siri': 23, 'Mon': 20, 'Kim': 40, 'Lisa': 18}\n",
        "test(['studentScore3.txt'],'Kim\\nTon\\nPiti\\nSiri\\nManee\\nTree\\nMon\\nLisa\\n') \n",
        "### END HIDDEN TESTS  "
      ],
      "outputs": [],
      "execution_count": null,
      "metadata": {
        "nbgrader": {
          "grade": true,
          "grade_id": "cell-9241545eb2b30f20",
          "locked": true,
          "points": 1,
          "schema_version": 3,
          "solution": false,
          "task": false
        },
        "id": "09TWkaAExM5t"
      }
    }
  ],
  "metadata": {
    "celltoolbar": "Create Assignment",
    "kernelspec": {
      "display_name": "Python 3 (ipykernel)",
      "language": "python",
      "name": "python3"
    },
    "language_info": {
      "codemirror_mode": {
        "name": "ipython",
        "version": 3
      },
      "file_extension": ".py",
      "mimetype": "text/x-python",
      "name": "python",
      "nbconvert_exporter": "python",
      "pygments_lexer": "ipython3",
      "version": "3.9.12"
    },
    "colab": {
      "provenance": [
        {
          "file_id": "19B8W4gK6LFSsLjbs_v-AfmdrItivKgnK",
          "timestamp": 1681711286667
        }
      ]
    },
    "nteract": {
      "version": "nteract-front-end@1.0.0"
    }
  },
  "nbformat": 4,
  "nbformat_minor": 0
}