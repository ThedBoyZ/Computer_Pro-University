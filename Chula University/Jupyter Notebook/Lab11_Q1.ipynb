{
  "cells": [
    {
      "cell_type": "markdown",
      "source": [
        "## Q1 (4 points)\n",
        "จงเขียนฟังก์ชัน `get_dict(file_name)` ที่รับ parameter เป็นชื่อไฟล์ แล้วสร้างและคืน dictionary ซึ่งมี\n",
        "- key เป็นสตริงของรหัสสินค้า และ มี \n",
        "- value เป็น dictionary ที่มี \n",
        "    - key เป็นสตริงของขนาด (`S`, `M`,  `L` หรือ `XL`) และ \n",
        "    - value เป็นตัวเลขจำนวนของสินค้า\n",
        "    \n",
        "และแสดงผลลัพธ์เป็นข้อมูลใน dictionary ตามตัวอย่างการทำงาน"
      ],
      "metadata": {
        "deletable": false,
        "editable": false,
        "id": "EU95rzNGHRP5",
        "nbgrader": {
          "cell_type": "markdown",
          "checksum": "fb73fcab3b16dfbf05fc980dbef87bf7",
          "grade": false,
          "grade_id": "cell-dbf37dcea5d7dc5c",
          "locked": true,
          "schema_version": 3,
          "solution": false,
          "task": false
        }
      }
    },
    {
      "cell_type": "markdown",
      "source": [
        "### ตัวอย่างการทำงาน: \n",
        "get_dict(**'stock1.txt'**) <br>\n",
        "{4125: {'M': 4}, 5645: {'L': 7}, 7845: {'XL': 3}}"
      ],
      "metadata": {
        "deletable": false,
        "editable": false,
        "id": "V1a0jQVXHRQC",
        "nbgrader": {
          "cell_type": "markdown",
          "checksum": "42cf225a4a3c1896c65b5590039b500e",
          "grade": false,
          "grade_id": "cell-7ae57c7b0fc2869d",
          "locked": true,
          "schema_version": 3,
          "solution": false,
          "task": false
        }
      }
    },
    {
      "cell_type": "markdown",
      "source": [
        "### ตัวอย่างการทำงาน: \n",
        "get_dict(**'stock2.txt'**)<br>\n",
        "{7845: {'XL': 3}, 4125: {'S': 1, 'M': 4}, 5645: {'L': 7}, 9874: {'S': 3}}"
      ],
      "metadata": {
        "deletable": false,
        "editable": false,
        "id": "mrKQrUwQHRQD",
        "nbgrader": {
          "cell_type": "markdown",
          "checksum": "db649a3920c8d67fdcb5ff429ce1420c",
          "grade": false,
          "grade_id": "cell-ab9308f5dbb737a2",
          "locked": true,
          "schema_version": 3,
          "solution": false,
          "task": false
        }
      }
    },
    {
      "cell_type": "markdown",
      "source": [
        "### ตัวอย่างการทำงาน: \n",
        "get_dict('**stock3.txt**')<br>\n",
        "{4125: {'S': 1, 'M': 4}, 5645: {'L': 7}, 9874: {'S': 8}, 9875: {'M': 8}, 7845: {'S': 10, 'XL': 3}}"
      ],
      "metadata": {
        "deletable": false,
        "editable": false,
        "id": "xu8uV_PYHRQE",
        "nbgrader": {
          "cell_type": "markdown",
          "checksum": "37b4b6529dbf55c64fe88a556da381fd",
          "grade": false,
          "grade_id": "cell-f7c8bee0599df624",
          "locked": true,
          "schema_version": 3,
          "solution": false,
          "task": false
        }
      }
    },
    {
      "cell_type": "code",
      "source": [
        "def get_dict(file_name):\n",
        "    '''สร้าง dictionary ของรหัสและจำนวนสินค้า คืนค่าเป็น dictionary'''\n",
        "    st = open(file_name)\n",
        "    st = st.read().splitlines()\n",
        "    r = {}\n",
        "    for i in st :\n",
        "        code,size,num = i.split()\n",
        "        code = int(code)\n",
        "        num = int(num)\n",
        "        if code in r :\n",
        "            if size in r[code] :\n",
        "                ss = num+r[code][size]\n",
        "                r[code][size] = ss\n",
        "            else :\n",
        "                r[code][size] = num\n",
        "        else :\n",
        "            r[code]={size:num}\n",
        "    return r"
      ],
      "outputs": [],
      "execution_count": 5,
      "metadata": {
        "deletable": false,
        "id": "Gu013atKHRQE",
        "nbgrader": {
          "cell_type": "code",
          "checksum": "791ab3d4dbf3ee2464fb1c07edb976f2",
          "grade": false,
          "grade_id": "name",
          "locked": false,
          "schema_version": 3,
          "solution": true
        }
      }
    },
    {
      "cell_type": "code",
      "source": [
        "'''ตรวจสอบผลลัพธ์ของโปรแกรมด้วยการรันที่ cell นี้'''\n",
        "'''ตัวอย่าง get_dict(\"ใส่ชื่อไฟล์.txt\")'''\n",
        "get_dict('stock1.txt')"
      ],
      "outputs": [
        {
          "output_type": "execute_result",
          "execution_count": 6,
          "data": {
            "text/plain": "{4125: {'M': 4}, 5645: {'L': 7}, 7845: {'XL': 3}}"
          },
          "metadata": {}
        }
      ],
      "execution_count": 6,
      "metadata": {
        "colab": {
          "base_uri": "https://localhost:8080/",
          "height": 321
        },
        "id": "UwuTP22DHRQG",
        "outputId": "89020aa1-4f99-4fb8-9068-85d872de075c"
      }
    },
    {
      "cell_type": "code",
      "source": [
        "'''ตรวจสอบผลการคำนวณและการแสดงผลลัพธ์ให้เหมือนกับโจทย์ที่กำหนดให้'''\n",
        "assert get_dict('stock1.txt') == {4125: {'M': 4}, 5645: {'L': 7}, 7845: {'XL': 3}}\n",
        "assert get_dict('stock2.txt') == {7845: {'XL': 3}, 4125: {'S': 1, 'M': 4}, 5645: {'L': 7}, 9874: {'S': 3}}\n",
        "assert get_dict('stock3.txt') == {4125: {'S': 1, 'M': 4}, 5645: {'L': 7}, 9874: {'S': 8}, 9875: {'M': 8}, 7845: {'S': 10, 'XL': 3}}\n",
        "print('OK')"
      ],
      "outputs": [
        {
          "output_type": "stream",
          "name": "stdout",
          "text": "OK\n"
        }
      ],
      "execution_count": 7,
      "metadata": {
        "deletable": false,
        "editable": false,
        "id": "sQO_P6S-HRQJ",
        "nbgrader": {
          "cell_type": "code",
          "checksum": "b9f548e30088032a39e317c415d974aa",
          "grade": true,
          "grade_id": "exact",
          "locked": false,
          "points": 1,
          "schema_version": 3,
          "solution": false
        }
      }
    },
    {
      "cell_type": "code",
      "source": [
        "'''เทสลับ1'''"
      ],
      "outputs": [
        {
          "output_type": "execute_result",
          "execution_count": 8,
          "data": {
            "text/plain": "'เทสลับ1'"
          },
          "metadata": {}
        }
      ],
      "execution_count": 8,
      "metadata": {
        "deletable": false,
        "editable": false,
        "id": "HWIrQ93PHRQK",
        "nbgrader": {
          "cell_type": "code",
          "checksum": "fdd42b8942af887ec0b0f9d4e18a1c33",
          "grade": true,
          "grade_id": "cell-c73870cae5a59dfa",
          "locked": true,
          "points": 1,
          "schema_version": 3,
          "solution": false,
          "task": false
        }
      }
    },
    {
      "cell_type": "code",
      "source": [],
      "outputs": [],
      "execution_count": null,
      "metadata": {}
    }
  ],
  "metadata": {
    "colab": {
      "collapsed_sections": [],
      "provenance": []
    },
    "kernelspec": {
      "display_name": "Python 3 (ipykernel)",
      "language": "python",
      "name": "python3"
    },
    "language_info": {
      "codemirror_mode": {
        "name": "ipython",
        "version": 3
      },
      "file_extension": ".py",
      "mimetype": "text/x-python",
      "name": "python",
      "nbconvert_exporter": "python",
      "pygments_lexer": "ipython3",
      "version": "3.9.12"
    },
    "nteract": {
      "version": "nteract-front-end@1.0.0"
    }
  },
  "nbformat": 4,
  "nbformat_minor": 1
}