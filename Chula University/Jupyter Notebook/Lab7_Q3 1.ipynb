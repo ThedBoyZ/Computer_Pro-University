{
 "cells": [
  {
   "cell_type": "markdown",
   "metadata": {
    "deletable": false,
    "editable": false,
    "nbgrader": {
     "cell_type": "markdown",
     "checksum": "6ad5679483df65da46900191b89b54e9",
     "grade": false,
     "grade_id": "cell-dbf37dcea5d7dc5c",
     "locked": true,
     "schema_version": 3,
     "solution": false,
     "task": false
    }
   },
   "source": [
    "## Q3 (4 points)\n",
    "จงเขียนฟังก์ชัน f(x) ที่คำนวณ 1/x! และฟังก์ชัน summation(a,b) ที่ใช้ฟังก์ชัน f และ คำนวณผลรวมของ f(x) เมื่อ x = a, a+1,..., b (นั่นคือ 1/a! + 1/(a+1)! + ... + 1/b!) โดยที่ a ต้องไม่มากกว่า b <br>\n",
    "โดยใช้ ฟังก์ชัน factorial จาก module math <br>\n",
    " \n",
    "จากนั้นให้เขียนโปรแกรมหลักที่รับ**จำนวนเต็มบวก 2 จำนวน m และ n** (m อาจมากกว่าหรือน้อยกว่า n) แล้วเรียกใช้ฟังก์ชัน summation เพื่อ คำนวณหาผลรวมของ f(x) เมื่อ x มีค่าตั้งแต่ m ถึง n <br>\n",
    "**แสดงผลลัพธ์เป็นตัวเลขทศนิยม 4 ตำแหน่ง โดยใช้ ฟังก์ชัน round**"
   ]
  },
  {
   "cell_type": "markdown",
   "metadata": {
    "deletable": false,
    "editable": false,
    "nbgrader": {
     "cell_type": "markdown",
     "checksum": "335253310c887f63ae8d81ad9685d15e",
     "grade": false,
     "grade_id": "cell-679ab39eeac1b48a",
     "locked": true,
     "schema_version": 3,
     "solution": false,
     "task": false
    }
   },
   "source": [
    "### ตัวอย่างการทำงาน: \n",
    "\n",
    "Enter m: **1** <br>\n",
    "Enter n: **3** <br>\n",
    "1.6667\n"
   ]
  },
  {
   "cell_type": "markdown",
   "metadata": {
    "deletable": false,
    "editable": false,
    "nbgrader": {
     "cell_type": "markdown",
     "checksum": "68bcad310b8cf5519acfd53663044702",
     "grade": false,
     "grade_id": "cell-7ae57c7b0fc2869d",
     "locked": true,
     "schema_version": 3,
     "solution": false,
     "task": false
    }
   },
   "source": [
    "### ตัวอย่างการทำงาน: \n",
    "\n",
    "Enter m: **3** <br>\n",
    "Enter n: **1** <br>\n",
    "1.6667"
   ]
  },
  {
   "cell_type": "markdown",
   "metadata": {
    "deletable": false,
    "editable": false,
    "nbgrader": {
     "cell_type": "markdown",
     "checksum": "662fb7ac8e225a1e43bd9a5c88e20f15",
     "grade": false,
     "grade_id": "cell-400409b302bb64e5",
     "locked": true,
     "schema_version": 3,
     "solution": false,
     "task": false
    }
   },
   "source": [
    "### ตัวอย่างการทำงาน: \n",
    "\n",
    "Enter m: **3** <br>\n",
    "Enter n: **6** <br>\n",
    "0.2181"
   ]
  },
  {
   "cell_type": "code",
   "execution_count": 1,
   "metadata": {
    "deletable": false,
    "nbgrader": {
     "cell_type": "code",
     "checksum": "b20de013c1a25b44a99755b00a9d2003",
     "grade": false,
     "grade_id": "answer",
     "locked": false,
     "schema_version": 3,
     "solution": true
    }
   },
   "outputs": [],
   "source": [
    "def f(x):\n",
    "    import math\n",
    "    fac = 1\n",
    "    for i in range(1,x+1) :\n",
    "        fac = fac*i\n",
    "        sum = 1/fac\n",
    "    return sum\n",
    "def summation(a, b):\n",
    "    total = 0\n",
    "    for i in range(a,b+1) :\n",
    "        total = total+f(i)\n",
    "    return total\n",
    "def run():\n",
    "    m = int(input('Enter m: '))\n",
    "    n = int(input('Enter n: '))\n",
    "    if m>n :\n",
    "        print(round(summation(n,m),4))\n",
    "    elif m<n :\n",
    "        print(round(summation(m,n),4))\n",
    "    else :\n",
    "        print('Invalid')"
   ]
  },
  {
   "cell_type": "code",
   "execution_count": 2,
   "metadata": {
    "deletable": false,
    "editable": false,
    "nbgrader": {
     "cell_type": "code",
     "checksum": "b7b03893ed0aaf1a2af60ae612b4be37",
     "grade": false,
     "grade_id": "cell-befa13e6c82bd29b",
     "locked": true,
     "schema_version": 3,
     "solution": false,
     "task": false
    }
   },
   "outputs": [
    {
     "name": "stdout",
     "output_type": "stream",
     "text": [
      "Enter m: 3\n",
      "Enter n: 4\n",
      "0.2083\n"
     ]
    }
   ],
   "source": [
    "'''ตรวจสอบผลลัพธ์ของโปรแกรมด้วยการรันที่ cell นี้'''\n",
    "run()"
   ]
  },
  {
   "cell_type": "code",
   "execution_count": 3,
   "metadata": {
    "deletable": false,
    "editable": false,
    "nbgrader": {
     "cell_type": "code",
     "checksum": "29361a7559eec5fcb9829ab4899438a4",
     "grade": false,
     "grade_id": "partial",
     "locked": true,
     "schema_version": 3,
     "solution": false,
     "task": false
    }
   },
   "outputs": [],
   "source": [
    "'''ตรวจสอบผลการคำนวณ'''\n",
    "from unittest.mock import patch\n",
    "from io import StringIO\n",
    "import math\n",
    "\n",
    "def test(inputs,expected_output): \n",
    "    with patch('builtins.input', side_effect=inputs), patch('sys.stdout', new_callable=StringIO) as mock_stdout:\n",
    "        run()\n",
    "        assert mock_stdout.getvalue() == expected_output,mock_stdout.getvalue()"
   ]
  },
  {
   "cell_type": "code",
   "execution_count": 4,
   "metadata": {
    "deletable": false,
    "editable": false,
    "nbgrader": {
     "cell_type": "code",
     "checksum": "98d4f1a1d9151fb1c924f2abc2af5888",
     "grade": true,
     "grade_id": "cell-4f7b8ee5a68b76a7",
     "locked": true,
     "points": 1,
     "schema_version": 3,
     "solution": false,
     "task": false
    }
   },
   "outputs": [],
   "source": [
    "'''ตรวจสอบผลการคำนวณและการแสดงผลลัพธ์ให้เหมือนกับโจทย์ที่กำหนดให้'''\n",
    "test(['1','3'],'1.6667\\n')  \n",
    "test(['3','6'],'0.2181\\n') \n",
    "test(['5','6'],'0.0097\\n')\n",
    "test(['3','4'],'0.2083\\n')"
   ]
  },
  {
   "cell_type": "code",
   "execution_count": 5,
   "metadata": {
    "deletable": false,
    "editable": false,
    "nbgrader": {
     "cell_type": "code",
     "checksum": "574d968ce518ac6c9bceb2dd4f67177a",
     "grade": true,
     "grade_id": "cell-9becccc26c51e026",
     "locked": true,
     "points": 1,
     "schema_version": 3,
     "solution": false,
     "task": false
    }
   },
   "outputs": [],
   "source": [
    "'''ตรวจสอบผลการคำนวณและการแสดงผลลัพธ์ให้เหมือนกับโจทย์ที่กำหนดให้'''\n",
    "test(['3','1'],'1.6667\\n') \n",
    "test(['9','2'],'0.7183\\n')\n",
    "test(['5','2'],'0.7167\\n')"
   ]
  },
  {
   "cell_type": "code",
   "execution_count": 6,
   "metadata": {
    "deletable": false,
    "editable": false,
    "nbgrader": {
     "cell_type": "code",
     "checksum": "6ddd3a9d8b1280000c5e5bba79c68d97",
     "grade": true,
     "grade_id": "cell-97ebb19bdacf1da4",
     "locked": true,
     "points": 1,
     "schema_version": 3,
     "solution": false,
     "task": false
    }
   },
   "outputs": [
    {
     "data": {
      "text/plain": [
       "'เทสลับ'"
      ]
     },
     "execution_count": 6,
     "metadata": {},
     "output_type": "execute_result"
    }
   ],
   "source": [
    "'''เทสลับ'''"
   ]
  },
  {
   "cell_type": "code",
   "execution_count": 7,
   "metadata": {
    "deletable": false,
    "editable": false,
    "nbgrader": {
     "cell_type": "code",
     "checksum": "79ac6fd00f80784c529facfa6e918aee",
     "grade": true,
     "grade_id": "exact",
     "locked": false,
     "points": 1,
     "schema_version": 3,
     "solution": false
    }
   },
   "outputs": [
    {
     "data": {
      "text/plain": [
       "'เทสลับ'"
      ]
     },
     "execution_count": 7,
     "metadata": {},
     "output_type": "execute_result"
    }
   ],
   "source": [
    "'''เทสลับ'''"
   ]
  },
  {
   "cell_type": "code",
   "execution_count": null,
   "metadata": {},
   "outputs": [],
   "source": []
  }
 ],
 "metadata": {
  "kernelspec": {
   "display_name": "Python 3 (ipykernel)",
   "language": "python",
   "name": "python3"
  },
  "language_info": {
   "codemirror_mode": {
    "name": "ipython",
    "version": 3
   },
   "file_extension": ".py",
   "mimetype": "text/x-python",
   "name": "python",
   "nbconvert_exporter": "python",
   "pygments_lexer": "ipython3",
   "version": "3.9.12"
  },
  "vscode": {
   "interpreter": {
    "hash": "318f2c383d48220c821fefd227250c35bb828f95042f5889a5ad1704b1baf79c"
   }
  }
 },
 "nbformat": 4,
 "nbformat_minor": 1
}
