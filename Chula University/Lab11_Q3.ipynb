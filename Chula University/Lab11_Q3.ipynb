{
  "cells": [
    {
      "cell_type": "markdown",
      "source": [
        "## Q3 (3 points)\n",
        "จงเขียนโปรแกรมเพื่อตัดสินผลการประกวดร้องเพลง โดยให้โปรแกรมอ่านคะแนนที่ผู้เข้าประกวดได้รับจากคณะกรรมการ <br>\n",
        "(เต็ม 10 คะแนนสำหรับกรรมการแต่ละท่าน) และผู้ชมในห้องส่ง (เต็ม 70 คะแนน) <br>\n",
        "จากไฟล์ score\\<n\\>.txt (แต่ละบรรทัดประกอบด้วยรหัสผู้ประกวดร้องเพลง คะแนนจากกรรมการคนที่ 1 คะแนนจากกรรมการคนที่ 2 คะแนนจากกรรมการคนที่ 3 และคะแนนจากผู้ชมในห้องส่ง) <br>\n",
        "\n",
        "กำหนดให้เขียนฟังก์ชัน `get_dict(file_name)` ที่มี parameter เป็นชื่อ file แล้วสร้างและคืนค่า dictionary จากการอ่านไฟล์ โดยมี\n",
        "- key เป็นสตริงของรหัสผู้เข้าประกวด \n",
        "- value เป็นผลรวมคะแนนทั้งหมด\n",
        "\n",
        "จงเขียนฟังก์ชัน `find_top3(scores)` ที่มี parameter เป็น dictionary ของผู้เข้าประกวดและคะแนน แล้วคืนค่าเป็น list ของผู้มีคะแนนสูงสุดการประกวด 3 อันดับแรก กำหนดให้ไม่มีผู้ใดได้คะแนนเท่ากัน"
      ],
      "metadata": {
        "deletable": false,
        "editable": false,
        "id": "JVjbZ_9lGZ7Q",
        "nbgrader": {
          "cell_type": "markdown",
          "checksum": "80b210bb8c783c2bb5561d059d8b862b",
          "grade": false,
          "grade_id": "cell-dbf37dcea5d7dc5c",
          "locked": true,
          "schema_version": 3,
          "solution": false,
          "task": false
        }
      }
    },
    {
      "cell_type": "markdown",
      "source": [
        "### ตัวอย่างไฟล์  score1.txt: \n",
        "\n",
        "CU01 8 8 9 65 <br>\n",
        "CU02 6 6 6 45 <br>\n",
        "CU03 8 8 7 55 <br>\n",
        "CU04 6 8 6 57 <br>\n",
        "CU05 9 9 9 66 <br>"
      ],
      "metadata": {
        "deletable": false,
        "editable": false,
        "id": "DHuk_zcCGZ7S",
        "nbgrader": {
          "cell_type": "markdown",
          "checksum": "ead8e29d2d111c6036f537b74672847c",
          "grade": false,
          "grade_id": "cell-03f39e4ccd9fcca1",
          "locked": true,
          "schema_version": 3,
          "solution": false,
          "task": false
        }
      }
    },
    {
      "cell_type": "markdown",
      "source": [
        "### ตัวอย่างไฟล์ score2.txt: \n",
        "\n",
        "CU01 8 8 9 65 <br>\n",
        "CU02 6 6 6 45 <br>\n",
        "CU03 8 7 7 55 <br>\n",
        "CU04 6 8 6 57 <br>\n",
        "CU05 9 9 9 66 <br>\n",
        "CU06 8 8 8 62 <br>\n",
        "CU07 10 8 9 67 <br>"
      ],
      "metadata": {
        "deletable": false,
        "editable": false,
        "id": "SDLdoBhpGZ7T",
        "nbgrader": {
          "cell_type": "markdown",
          "checksum": "2cc24d4826a6f758165ad7e083a4dc29",
          "grade": false,
          "grade_id": "cell-c5c873cd4b0d9800",
          "locked": true,
          "schema_version": 3,
          "solution": false,
          "task": false
        }
      }
    },
    {
      "cell_type": "markdown",
      "source": [
        "### ตัวอย่างไฟล์ score3.txt: \n",
        "\n",
        "CU01 8 8 9 65 <br>\n",
        "CU02 6 6 6 45 <br>\n",
        "CU03 8 7 7 55 <br>\n",
        "CU04 6 8 6 57 <br>\n",
        "CU05 9 9 9 66 <br>\n",
        "CU06 8 8 8 62 <br>\n",
        "CU07 10 8 9 67 <br>\n",
        "CU08 8 7 9 60 <br>\n",
        "CU09 7 7 7 58 <br>\n",
        "CU10 9 8 9 60 <br>"
      ],
      "metadata": {
        "deletable": false,
        "editable": false,
        "id": "82KyPfciGZ7T",
        "nbgrader": {
          "cell_type": "markdown",
          "checksum": "ab31d66aec15f72ac0389d2aee53fb6e",
          "grade": false,
          "grade_id": "cell-0d6331267e3ec895",
          "locked": true,
          "schema_version": 3,
          "solution": false,
          "task": false
        }
      }
    },
    {
      "cell_type": "markdown",
      "source": [
        "### ตัวอย่างการทำงาน: \n",
        "\n",
        "Choose your score: **score1.txt**<br>\n",
        "The winners are :<br>\n",
        "['CU05', 'CU01', 'CU03']"
      ],
      "metadata": {
        "deletable": false,
        "editable": false,
        "id": "Yiz9eUexGZ7U",
        "nbgrader": {
          "cell_type": "markdown",
          "checksum": "5fe1488fb110e469412bb8d9c64d54ce",
          "grade": false,
          "grade_id": "cell-e02bd30c7ce943f0",
          "locked": true,
          "schema_version": 3,
          "solution": false,
          "task": false
        }
      }
    },
    {
      "cell_type": "markdown",
      "source": [
        "### ตัวอย่างการทำงาน: \n",
        "\n",
        "Choose your score: **score2.txt**<br>\n",
        "The winners are :<br>\n",
        "['CU07', 'CU05', 'CU01']"
      ],
      "metadata": {
        "deletable": false,
        "editable": false,
        "id": "5R--d9JuGZ7U",
        "nbgrader": {
          "cell_type": "markdown",
          "checksum": "e09bf50fe0ce54f2b0335d414bf1dbd0",
          "grade": false,
          "grade_id": "cell-807edfbdea063af2",
          "locked": true,
          "schema_version": 3,
          "solution": false,
          "task": false
        }
      }
    },
    {
      "cell_type": "markdown",
      "source": [
        "### ตัวอย่างการทำงาน: \n",
        "\n",
        "Choose your score: **score3.txt**<br>\n",
        "The winners are :<br>\n",
        "['CU07', 'CU01', 'CU05']"
      ],
      "metadata": {
        "deletable": false,
        "editable": false,
        "id": "_7ezuFSzGZ7U",
        "nbgrader": {
          "cell_type": "markdown",
          "checksum": "08b6ae709e4666fe6d1b715c10079296",
          "grade": false,
          "grade_id": "cell-20965f24bfc60731",
          "locked": true,
          "schema_version": 3,
          "solution": false,
          "task": false
        }
      }
    },
    {
      "cell_type": "code",
      "source": [
        "def get_dict(file_name):\n",
        "    st = open(file_name)\n",
        "    st = st.read().splitlines()\n",
        "    r = {}\n",
        "    for i in st :\n",
        "        i = i.split()\n",
        "        s1 = int(i[1])\n",
        "        s2 = int(i[2])\n",
        "        s3 = int(i[3])\n",
        "        s4 = int(i[4])\n",
        "        sum = s1+s2+s3+s4\n",
        "        r[i[0]] = sum\n",
        "    return r\n",
        "\n",
        "def find_top3(scores):\n",
        "    '''คืน list ของผู้มีคะแนนสูงสุดการประกวด 3 อันดับแรก'''\n",
        "    sd = sorted(scores.items(),key=lambda x:x[1],reverse=True)\n",
        "    t3 = [a for a,b in sd]\n",
        "    t3 = t3[0:3]\n",
        "    return t3\n",
        "\n",
        "def run():\n",
        "    '''รับชื่อไฟล์คะแนน แล้วแสดง list ของผู้ชนะ 3 ลำดับแรก'''\n",
        "    x = input(\"Input file_name :\")\n",
        "    scores = get_dict(x)\n",
        "    print('The winners are :')\n",
        "    print(find_top3(scores))"
      ],
      "outputs": [],
      "execution_count": 1,
      "metadata": {
        "deletable": false,
        "id": "VwMjVVM2GZ7U",
        "nbgrader": {
          "cell_type": "code",
          "checksum": "8abd732329a7df0b3305d034cc20c466",
          "grade": false,
          "grade_id": "name",
          "locked": false,
          "schema_version": 3,
          "solution": true
        }
      }
    },
    {
      "cell_type": "code",
      "source": [
        "'''ตรวจสอบการสร้าง dict'''\n",
        "'''ตัวอย่าง get_dict(\"ใส่ชื่อไฟล์.txt\")'''\n",
        "get_dict('score2.txt')"
      ],
      "outputs": [
        {
          "output_type": "execute_result",
          "execution_count": 3,
          "data": {
            "text/plain": "{'CU01': 90,\n 'CU02': 63,\n 'CU03': 77,\n 'CU04': 77,\n 'CU05': 93,\n 'CU06': 86,\n 'CU07': 94}"
          },
          "metadata": {}
        }
      ],
      "execution_count": 3,
      "metadata": {
        "id": "NBO29cOGJvV-"
      }
    },
    {
      "cell_type": "code",
      "source": [
        "'''ทดสอบฟังก์ชัน get_dict(file_name)'''\n",
        "assert get_dict('score1.txt') == {'CU01': 90, 'CU02': 63, 'CU03': 78, 'CU04': 77, 'CU05': 93}\n",
        "assert get_dict('score2.txt') == {'CU01': 90, 'CU02': 63, 'CU03': 77, 'CU04': 77, 'CU05': 93, 'CU06': 86, 'CU07': 94}\n",
        "assert get_dict('score3.txt') == {'CU01': 90, 'CU02': 63, 'CU03': 77, 'CU04': 77, 'CU05': 87, 'CU06': 86, 'CU07': 94, 'CU08': 84, 'CU09': 79, 'CU10': 86} \n",
        "print('OK')"
      ],
      "outputs": [
        {
          "output_type": "stream",
          "name": "stdout",
          "text": "OK\n"
        }
      ],
      "execution_count": 4,
      "metadata": {
        "deletable": false,
        "editable": false,
        "id": "Q2axUVePGZ7X",
        "nbgrader": {
          "cell_type": "code",
          "checksum": "862997825ebff447fc045dd2faa7c8e0",
          "grade": true,
          "grade_id": "exact",
          "locked": false,
          "points": 1,
          "schema_version": 3,
          "solution": false
        }
      }
    },
    {
      "cell_type": "code",
      "source": [
        "'''ทดสอบฟังก์ชัน find_top3()'''\n",
        "'''จากตัวอย่าง dictionary ผู้มีคะแนนสูงสุด 3 ลำดับแรกคือ E, B และ F ตามลำดับ'''\n",
        "assert find_top3({'A':80, 'B':90, 'C':70, 'D':50, 'E':95, 'F':86}) == ['E', 'B', 'F']\n",
        "assert find_top3({'A':97, 'B':68, 'C':96, 'D':88, 'E':85, 'F':86}) == ['A', 'C', 'D']\n",
        "print('OK')"
      ],
      "outputs": [
        {
          "output_type": "stream",
          "name": "stdout",
          "text": "OK\n"
        }
      ],
      "execution_count": 5,
      "metadata": {
        "deletable": false,
        "editable": false,
        "id": "Zo-dtqc5KCgD",
        "nbgrader": {
          "cell_type": "code",
          "checksum": "52fec898240d5a5c9f6093968c4c9871",
          "grade": true,
          "grade_id": "cell-a90ea8f11e54426e",
          "locked": true,
          "points": 1,
          "schema_version": 3,
          "solution": false,
          "task": false
        }
      }
    },
    {
      "cell_type": "code",
      "source": [
        "'''ตรวจสอบผลลัพธ์ของโปรแกรมด้วยการรันที่ cell นี้'''\n",
        "run()"
      ],
      "outputs": [
        {
          "output_type": "stream",
          "name": "stdout",
          "text": "Input file_name :score1.txt\nThe winners are :\n['CU05', 'CU01', 'CU03']\n"
        }
      ],
      "execution_count": 6,
      "metadata": {
        "colab": {
          "base_uri": "https://localhost:8080/",
          "height": 345
        },
        "deletable": false,
        "editable": false,
        "id": "X1jW5d0zGZ7W",
        "nbgrader": {
          "cell_type": "code",
          "checksum": "b7b03893ed0aaf1a2af60ae612b4be37",
          "grade": false,
          "grade_id": "cell-befa13e6c82bd29b",
          "locked": true,
          "schema_version": 3,
          "solution": false,
          "task": false
        },
        "outputId": "711ff9a2-c688-405e-c0e5-048a0e7b00b1"
      }
    },
    {
      "cell_type": "code",
      "source": [
        "'''ตรวจสอบผลการคำนวณ'''\n",
        "from unittest.mock import patch\n",
        "from io import StringIO\n",
        "\n",
        "def test(inputs,expected_output): \n",
        "    with patch('builtins.input', side_effect=inputs), patch('sys.stdout', new_callable=StringIO) as mock_stdout:\n",
        "        run()\n",
        "        assert mock_stdout.getvalue() == expected_output,mock_stdout.getvalue()"
      ],
      "outputs": [],
      "execution_count": 8,
      "metadata": {
        "deletable": false,
        "editable": false,
        "id": "yrVEs_jtGZ7X",
        "nbgrader": {
          "cell_type": "code",
          "checksum": "8d13646834a2e59ad65840e2a732ea5d",
          "grade": false,
          "grade_id": "partial",
          "locked": true,
          "schema_version": 3,
          "solution": false,
          "task": false
        }
      }
    },
    {
      "cell_type": "code",
      "source": [
        "'''ตรวจสอบผลการคำนวณและการแสดงผลลัพธ์ให้เหมือนกับโจทย์ที่กำหนดให้'''\n",
        "'''top 3'''\n",
        "test(['score1.txt'],\"The winners are :\\n['CU05', 'CU01', 'CU03']\\n\")\n",
        "test(['score2.txt'],\"The winners are :\\n['CU07', 'CU05', 'CU01']\\n\")\n",
        "test(['score3.txt'],\"The winners are :\\n['CU07', 'CU01', 'CU05']\\n\")\n",
        "print('OK')"
      ],
      "outputs": [
        {
          "output_type": "stream",
          "name": "stdout",
          "text": "OK\n"
        }
      ],
      "execution_count": 9,
      "metadata": {
        "deletable": false,
        "editable": false,
        "id": "iNjqbB4ZGZ7Y",
        "nbgrader": {
          "cell_type": "code",
          "checksum": "d619bac52895d0588e47aed7af8cc802",
          "grade": true,
          "grade_id": "cell-318efae9bca2069c",
          "locked": true,
          "points": 1,
          "schema_version": 3,
          "solution": false,
          "task": false
        }
      }
    },
    {
      "cell_type": "code",
      "source": [
        "'''เทสลับ1'''"
      ],
      "outputs": [],
      "execution_count": null,
      "metadata": {
        "deletable": false,
        "editable": false,
        "id": "rcJkeA_2GZ7Y",
        "nbgrader": {
          "cell_type": "code",
          "checksum": "b4216d4b2c75f5a1237392606add8bed",
          "grade": true,
          "grade_id": "cell-c8599a43c8e1b8d8",
          "locked": true,
          "points": 1,
          "schema_version": 3,
          "solution": false,
          "task": false
        }
      }
    }
  ],
  "metadata": {
    "colab": {
      "collapsed_sections": [],
      "provenance": []
    },
    "kernelspec": {
      "display_name": "Python 3 (ipykernel)",
      "language": "python",
      "name": "python3"
    },
    "language_info": {
      "codemirror_mode": {
        "name": "ipython",
        "version": 3
      },
      "file_extension": ".py",
      "mimetype": "text/x-python",
      "name": "python",
      "nbconvert_exporter": "python",
      "pygments_lexer": "ipython3",
      "version": "3.9.12"
    },
    "nteract": {
      "version": "nteract-front-end@1.0.0"
    }
  },
  "nbformat": 4,
  "nbformat_minor": 1
}