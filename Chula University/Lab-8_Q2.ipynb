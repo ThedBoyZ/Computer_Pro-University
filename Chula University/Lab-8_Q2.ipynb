{
 "cells": [
  {
   "cell_type": "markdown",
   "metadata": {
    "deletable": false,
    "editable": false,
    "nbgrader": {
     "cell_type": "markdown",
     "checksum": "b90355fefe1676de3382f2d446bb6596",
     "grade": false,
     "grade_id": "cell-dbf37dcea5d7dc5c",
     "locked": true,
     "schema_version": 3,
     "solution": false,
     "task": false
    }
   },
   "source": [
    "## Q2 (8 points)\n",
    "จงเขียนโปรแกรมที่อ่านเฉลยของข้อสอบปรนัยจากไฟล์ sol\\<n\\>.txt (ข้อสอบมี 10 ข้อ ) \n",
    "และอ่านคำตอบของนักเรียนจากไฟล์ exam\\<n\\>.txt ที่มีคำตอบจากนักเรียนแต่ละคนอยู่ใน 1 บรรทัด\n",
    "(ถือว่านักเรียนต้องตอบข้อสอบทุกข้อ)\n",
    "และมีนักเรียนอยู่ 8 คน จากนั้นให้ตรวจคำตอบของนักเรียนทุกคน แล้วหา\n",
    "- คะแนนของนักเรียนแต่ละคน\n",
    "- คะแนนเฉลี่ยของข้อสอบแต่ละข้อ\n",
    "- ข้อสอบข้อที่นักเรียนทำคะแนนได้น้อยสุด (แสดงให้ครบทุกข้อ หากคะแนนเท่ากันหลายข้อ )\n",
    "- ข้อสอบข้อที่นักเรียนทำคะแนนได้มากสุด (แสดงให้ครบทุกข้อ หากคะแนนเท่ากันหลายข้อ )\n",
    "\n",
    "**หมายเหตุ ให้ใช้ลิสต์ในข้อนี้ และสามารถใช้ฟังก์ชัน min และ max เพื่อหาค่าน้อยสุดและมากสุดในลิสต์ได้**"
   ]
  },
  {
   "cell_type": "markdown",
   "metadata": {
    "deletable": false,
    "editable": false,
    "nbgrader": {
     "cell_type": "markdown",
     "checksum": "a70a4e7cbda8c186989eb046f3320c57",
     "grade": false,
     "grade_id": "cell-7ae57c7b0fc2869d",
     "locked": true,
     "schema_version": 3,
     "solution": false,
     "task": false
    }
   },
   "source": [
    "### ตัวอย่างไฟล์: \n",
    "ไฟล์ sol1.txt: <br>\n",
    "A A B A D C C D A B<br>\n",
    "---\n",
    "ไฟล์ exam1.txt: <br>\n",
    "A A D A D C C D A B <br>\n",
    "C A C A D C C D B C <br>\n",
    "A A B A D C B D A B <br>\n",
    "B A B A D C C C A B <br>\n",
    "A A D B D C B D A B <br> \n",
    "B A B A D C C C A C <br>\n",
    "A A D A D C C D A B <br>\n",
    "A A B A C C C D B B <br>\n",
    "---\n",
    "ไฟล์ sol2.txt: <br>\n",
    "C A B A D A C C A B <br>\n",
    "---\n",
    "ไฟล์ exam2.txt: <br>\n",
    "A A B A C C C D B B <br>\n",
    "A A B A D C B D A B <br>\n",
    "B A C A D B C D B C <br>\n",
    "A A D B D C B D A B <br>\n",
    "A A B A D C C D A B <br>\n",
    "A A D A D C C D A B <br>\n",
    "C A B A D A C C A C <br>\n",
    "A A D A D C C D A B <br>"
   ]
  },
  {
   "cell_type": "markdown",
   "metadata": {
    "deletable": false,
    "editable": false,
    "nbgrader": {
     "cell_type": "markdown",
     "checksum": "9520eafded2423f3aefb25b24c193061",
     "grade": false,
     "grade_id": "cell-28c9c5a1fd452032",
     "locked": true,
     "schema_version": 3,
     "solution": false,
     "task": false
    }
   },
   "source": [
    "### ตัวอย่างการทำงาน: \n",
    "Choose your solution file: **sol1.txt** <br>\n",
    "Choose your exam file: **exam1.txt** <br>\n",
    "Student score : [9, 6, 9, 8, 7, 7, 9, 8]<br>\n",
    "\n",
    "Question 1 : 0.625 <br>\n",
    "Question 2 : 1.0 <br>\n",
    "Question 3 : 0.5 <br>\n",
    "Question 4 : 0.875 <br>\n",
    "Question 5 : 0.875 <br>\n",
    "Question 6 : 1.0 <br>\n",
    "Question 7 : 0.75 <br>\n",
    "Question 8 : 0.75 <br>\n",
    "Question 9 : 0.75 <br>\n",
    "Question 10 : 0.75 <br>\n",
    "\n",
    "Hardest : 3 <br>\n",
    "Easiest : 2 6 <br>"
   ]
  },
  {
   "cell_type": "code",
   "execution_count": 54,
   "metadata": {
    "deletable": false,
    "nbgrader": {
     "cell_type": "code",
     "checksum": "b200d6e6b1dcb53db9c7782614ea5d49",
     "grade": false,
     "grade_id": "name",
     "locked": false,
     "schema_version": 3,
     "solution": true
    }
   },
   "outputs": [],
   "source": [
    "def run():\n",
    "    # YOUR CODE HERE\n",
    "    x = input('Choose your solution file: ')\n",
    "    y = input('Choose your exam file: ')\n",
    "    sol = open(x,'r')\n",
    "    sol = sol.read().strip().split()\n",
    "    exam = open(y,'r')\n",
    "    exam = exam.read().splitlines()\n",
    "    data=[] ; score=[]\n",
    "    avg = [0] * 10\n",
    "    for i in exam :\n",
    "        data.append(i.split())\n",
    "    for i in data :\n",
    "        sum = 0\n",
    "        for j in range(len(sol)):\n",
    "             if sol[j] == i[j] :\n",
    "                avg[j]+=1\n",
    "                sum+=1\n",
    "        score.append(sum)\n",
    "    avg = [ i/8 for i in avg]\n",
    "    print(\"Student score :\",score)\n",
    "    print()\n",
    "    for i in range(len(avg)):\n",
    "        print('Question',str(i+1),':',avg[i])\n",
    "    easy = [str(i+1) for i in range(len(avg)) if avg[i]==max(avg)]\n",
    "    hard = [str(i+1) for i in range(len(avg)) if avg[i]==min(avg)]\n",
    "    print()\n",
    "    print('Hardest :',' '.join(hard))\n",
    "    print('Easiest :',' '.join(easy))"
   ]
  },
  {
   "cell_type": "code",
   "execution_count": 55,
   "metadata": {
    "deletable": false,
    "editable": false,
    "nbgrader": {
     "cell_type": "code",
     "checksum": "b7b03893ed0aaf1a2af60ae612b4be37",
     "grade": false,
     "grade_id": "cell-befa13e6c82bd29b",
     "locked": true,
     "schema_version": 3,
     "solution": false,
     "task": false
    }
   },
   "outputs": [
    {
     "name": "stdout",
     "output_type": "stream",
     "text": [
      "Choose your solution file: sol1.txt\n",
      "Choose your exam file: exam1.txt\n",
      "Student score : [9, 6, 9, 8, 7, 7, 9, 8]\n",
      "\n",
      "Question 1 : 0.625\n",
      "Question 2 : 1.0\n",
      "Question 3 : 0.5\n",
      "Question 4 : 0.875\n",
      "Question 5 : 0.875\n",
      "Question 6 : 1.0\n",
      "Question 7 : 0.75\n",
      "Question 8 : 0.75\n",
      "Question 9 : 0.75\n",
      "Question 10 : 0.75\n",
      "\n",
      "Hardest : 3\n",
      "Easiest : 2 6\n"
     ]
    }
   ],
   "source": [
    "'''ตรวจสอบผลลัพธ์ของโปรแกรมด้วยการรันที่ cell นี้'''\n",
    "run()"
   ]
  },
  {
   "cell_type": "code",
   "execution_count": 52,
   "metadata": {
    "deletable": false,
    "editable": false,
    "nbgrader": {
     "cell_type": "code",
     "checksum": "8d13646834a2e59ad65840e2a732ea5d",
     "grade": false,
     "grade_id": "partial",
     "locked": true,
     "schema_version": 3,
     "solution": false,
     "task": false
    }
   },
   "outputs": [],
   "source": [
    "'''ตรวจสอบผลการคำนวณ'''\n",
    "from unittest.mock import patch\n",
    "from io import StringIO\n",
    "\n",
    "def test(inputs,expected_output): \n",
    "    with patch('builtins.input', side_effect=inputs), patch('sys.stdout', new_callable=StringIO) as mock_stdout:\n",
    "        run()\n",
    "        assert mock_stdout.getvalue() == expected_output,mock_stdout.getvalue()"
   ]
  },
  {
   "cell_type": "code",
   "execution_count": 56,
   "metadata": {
    "deletable": false,
    "editable": false,
    "nbgrader": {
     "cell_type": "code",
     "checksum": "eb076173ec367d4ac7f716fe167b3a8b",
     "grade": true,
     "grade_id": "exact",
     "locked": false,
     "points": 1,
     "schema_version": 3,
     "solution": false
    }
   },
   "outputs": [
    {
     "name": "stdout",
     "output_type": "stream",
     "text": [
      "OK\n"
     ]
    }
   ],
   "source": [
    "'''ตรวจสอบผลการคำนวณและการแสดงผลลัพธ์ให้เหมือนกับโจทย์ที่กำหนดให้'''\n",
    "'''sol1-exam1'''\n",
    "test(['sol1.txt','exam1.txt'],'Student score : [9, 6, 9, 8, 7, 7, 9, 8]\\n\\n\\\n",
    "Question 1 : 0.625\\nQuestion 2 : 1.0\\nQuestion 3 : 0.5\\nQuestion 4 : 0.875\\n\\\n",
    "Question 5 : 0.875\\nQuestion 6 : 1.0\\nQuestion 7 : 0.75\\nQuestion 8 : 0.75\\n\\\n",
    "Question 9 : 0.75\\nQuestion 10 : 0.75\\n\\nHardest : 3\\n\\\n",
    "Easiest : 2 6\\n') \n",
    "print('OK')"
   ]
  },
  {
   "cell_type": "code",
   "execution_count": 57,
   "metadata": {
    "deletable": false,
    "editable": false,
    "nbgrader": {
     "cell_type": "code",
     "checksum": "9fc0ff8600dd01f0680ddfc13623887e",
     "grade": true,
     "grade_id": "cell-0c38a636281d4f0d",
     "locked": true,
     "points": 1,
     "schema_version": 3,
     "solution": false,
     "task": false
    }
   },
   "outputs": [
    {
     "name": "stdout",
     "output_type": "stream",
     "text": [
      "OK\n"
     ]
    }
   ],
   "source": [
    "'''ตรวจสอบผลการคำนวณและการแสดงผลลัพธ์ให้เหมือนกับโจทย์ที่กำหนดให้'''\n",
    "'''sol1-exam2'''\n",
    "test(['sol1.txt','exam2.txt'],'Student score : [8, 9, 5, 7, 10, 9, 6, 9]\\n\\n\\\n",
    "Question 1 : 0.75\\nQuestion 2 : 1.0\\nQuestion 3 : 0.5\\nQuestion 4 : 0.875\\n\\\n",
    "Question 5 : 0.875\\nQuestion 6 : 0.75\\nQuestion 7 : 0.75\\n\\\n",
    "Question 8 : 0.875\\nQuestion 9 : 0.75\\nQuestion 10 : 0.75\\n\\n\\\n",
    "Hardest : 3\\nEasiest : 2\\n') \n",
    "print('OK')"
   ]
  },
  {
   "cell_type": "code",
   "execution_count": 58,
   "metadata": {
    "deletable": false,
    "editable": false,
    "nbgrader": {
     "cell_type": "code",
     "checksum": "e87a6d03fca6dd909d3b3f4bbb4238bd",
     "grade": true,
     "grade_id": "cell-fd46675f2047b1a8",
     "locked": true,
     "points": 1,
     "schema_version": 3,
     "solution": false,
     "task": false
    }
   },
   "outputs": [
    {
     "name": "stdout",
     "output_type": "stream",
     "text": [
      "OK\n"
     ]
    }
   ],
   "source": [
    "'''ตรวจสอบผลการคำนวณและการแสดงผลลัพธ์ให้เหมือนกับโจทย์ที่กำหนดให้'''\n",
    "'''sol2-exam1'''\n",
    "test(['sol2.txt','exam1.txt'],'Student score : [6, 5, 6, 8, 4, 7, 6, 5]\\n\\n\\\n",
    "Question 1 : 0.125\\nQuestion 2 : 1.0\\nQuestion 3 : 0.5\\nQuestion 4 : 0.875\\n\\\n",
    "Question 5 : 0.875\\nQuestion 6 : 0.0\\nQuestion 7 : 0.75\\nQuestion 8 : 0.25\\n\\\n",
    "Question 9 : 0.75\\nQuestion 10 : 0.75\\n\\nHardest : 6\\n\\\n",
    "Easiest : 2\\n') \n",
    "print('OK')"
   ]
  },
  {
   "cell_type": "code",
   "execution_count": 59,
   "metadata": {
    "deletable": false,
    "editable": false,
    "nbgrader": {
     "cell_type": "code",
     "checksum": "01384eec373648aa310993c2d08a9175",
     "grade": true,
     "grade_id": "cell-bdf63c4f416d44e6",
     "locked": true,
     "points": 1,
     "schema_version": 3,
     "solution": false,
     "task": false
    }
   },
   "outputs": [
    {
     "name": "stdout",
     "output_type": "stream",
     "text": [
      "OK\n"
     ]
    }
   ],
   "source": [
    "'''ตรวจสอบผลการคำนวณและการแสดงผลลัพธ์ให้เหมือนกับโจทย์ที่กำหนดให้'''\n",
    "'''sol2-exam2'''\n",
    "test(['sol2.txt','exam2.txt'],'Student score : [5, 6, 4, 4, 7, 6, 9, 6]\\n\\n\\\n",
    "Question 1 : 0.125\\nQuestion 2 : 1.0\\nQuestion 3 : 0.5\\nQuestion 4 : 0.875\\n\\\n",
    "Question 5 : 0.875\\nQuestion 6 : 0.125\\nQuestion 7 : 0.75\\nQuestion 8 : 0.125\\n\\\n",
    "Question 9 : 0.75\\nQuestion 10 : 0.75\\n\\nHardest : 1 6 8\\n\\\n",
    "Easiest : 2\\n') \n",
    "print('OK')"
   ]
  },
  {
   "cell_type": "code",
   "execution_count": 60,
   "metadata": {
    "deletable": false,
    "editable": false,
    "nbgrader": {
     "cell_type": "code",
     "checksum": "61ca89b950cda397a0a4b8c0f74a4923",
     "grade": true,
     "grade_id": "cell-41d5dc3a57709824",
     "locked": true,
     "points": 1,
     "schema_version": 3,
     "solution": false,
     "task": false
    }
   },
   "outputs": [
    {
     "data": {
      "text/plain": [
       "'เทสลับ1'"
      ]
     },
     "execution_count": 60,
     "metadata": {},
     "output_type": "execute_result"
    }
   ],
   "source": [
    "'''เทสลับ1'''"
   ]
  },
  {
   "cell_type": "code",
   "execution_count": 61,
   "metadata": {
    "deletable": false,
    "editable": false,
    "nbgrader": {
     "cell_type": "code",
     "checksum": "a583f42f964cf2675886d7e3123bfbfc",
     "grade": true,
     "grade_id": "cell-88f757b5f3a1c322",
     "locked": true,
     "points": 1,
     "schema_version": 3,
     "solution": false,
     "task": false
    }
   },
   "outputs": [
    {
     "data": {
      "text/plain": [
       "'เทสลับ2'"
      ]
     },
     "execution_count": 61,
     "metadata": {},
     "output_type": "execute_result"
    }
   ],
   "source": [
    "'''เทสลับ2'''"
   ]
  },
  {
   "cell_type": "code",
   "execution_count": 62,
   "metadata": {
    "deletable": false,
    "editable": false,
    "nbgrader": {
     "cell_type": "code",
     "checksum": "6be8dbadd45d3c4ddf5b162aabd33df9",
     "grade": true,
     "grade_id": "cell-a70719962a52d414",
     "locked": true,
     "points": 1,
     "schema_version": 3,
     "solution": false,
     "task": false
    }
   },
   "outputs": [
    {
     "data": {
      "text/plain": [
       "'เทสลับ3'"
      ]
     },
     "execution_count": 62,
     "metadata": {},
     "output_type": "execute_result"
    }
   ],
   "source": [
    "'''เทสลับ3'''"
   ]
  },
  {
   "cell_type": "code",
   "execution_count": 63,
   "metadata": {
    "deletable": false,
    "editable": false,
    "nbgrader": {
     "cell_type": "code",
     "checksum": "d1e4ab7715eda7f0b5a7759936974eab",
     "grade": true,
     "grade_id": "cell-7c1a16c0210ba75d",
     "locked": true,
     "points": 1,
     "schema_version": 3,
     "solution": false,
     "task": false
    }
   },
   "outputs": [
    {
     "data": {
      "text/plain": [
       "'เทสลับ4'"
      ]
     },
     "execution_count": 63,
     "metadata": {},
     "output_type": "execute_result"
    }
   ],
   "source": [
    "'''เทสลับ4'''"
   ]
  },
  {
   "cell_type": "code",
   "execution_count": null,
   "metadata": {},
   "outputs": [],
   "source": []
  },
  {
   "cell_type": "code",
   "execution_count": null,
   "metadata": {},
   "outputs": [],
   "source": []
  },
  {
   "cell_type": "code",
   "execution_count": null,
   "metadata": {},
   "outputs": [],
   "source": []
  }
 ],
 "metadata": {
  "kernelspec": {
   "display_name": "Python 3 (ipykernel)",
   "language": "python",
   "name": "python3"
  },
  "language_info": {
   "codemirror_mode": {
    "name": "ipython",
    "version": 3
   },
   "file_extension": ".py",
   "mimetype": "text/x-python",
   "name": "python",
   "nbconvert_exporter": "python",
   "pygments_lexer": "ipython3",
   "version": "3.10.9"
  }
 },
 "nbformat": 4,
 "nbformat_minor": 1
}
