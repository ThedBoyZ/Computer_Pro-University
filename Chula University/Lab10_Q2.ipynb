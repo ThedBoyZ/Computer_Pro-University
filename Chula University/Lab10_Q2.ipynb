{
 "cells": [
  {
   "cell_type": "markdown",
   "metadata": {
    "nbgrader": {
     "grade": false,
     "grade_id": "cell-dbf37dcea5d7dc5c",
     "locked": true,
     "schema_version": 3,
     "solution": false,
     "task": false
    }
   },
   "source": [
    "## Q2 (2 points)\n",
    "- เขียนฟังก์ชัน get_dict(file_name) โดยรับพารามิเตอร์เป็น file_name ที่สร้าง dictionary จากการอ่านไฟล์ conversation.txt (มีไฟล์ให้)  <br>\n",
    "    - จากนั้นนับความถี่ของแต่ละคำที่ปรากฏในไฟล์ โดยแต่ละคำคั่นด้วยช่องว่าง และให้ตัด **: ? , .** ที่อยู่หน้าหรือหลังคำ \n",
    "ออกจากข้อความด้วย <br> และแสดงผลลัพธ์เป็นข้อมูลใน dictionary ตามตัวอย่างการทำงาน "
   ]
  },
  {
   "cell_type": "markdown",
   "metadata": {
    "nbgrader": {
     "grade": false,
     "grade_id": "cell-7ae57c7b0fc2869d",
     "locked": true,
     "schema_version": 3,
     "solution": false,
     "task": false
    }
   },
   "source": [
    "### ตัวอย่างการทำงาน: \n",
    "get_dict(**'conversation1.txt'**) <br>\n",
    "{'Tom': 2, 'Hi': 1, 'I': 2, 'am': 2, 'Ana': 2}"
   ]
  },
  {
   "cell_type": "markdown",
   "metadata": {
    "nbgrader": {
     "grade": false,
     "grade_id": "cell-49124b4536819ee4",
     "locked": true,
     "schema_version": 3,
     "solution": false,
     "task": false
    }
   },
   "source": [
    "### ตัวอย่างการทำงาน: \n",
    "get_dict(**'conversation2.txt'**) <br>\n",
    "{'Mr': 3, 'Bean': 3, 'Good': 2, 'morning': 2, 'Mrs': 2, 'Jones': 2, 'How': 1, 'are': 1, 'you': 1, \"I'm\": 1, 'fine': 1, 'Thanks': 1}"
   ]
  },
  {
   "cell_type": "markdown",
   "metadata": {
    "nbgrader": {
     "grade": false,
     "grade_id": "cell-2ea830a3179a93b7",
     "locked": true,
     "schema_version": 3,
     "solution": false,
     "task": false
    }
   },
   "source": [
    "### ตัวอย่างการทำงาน: \n",
    "get_dict(**'conversation3.txt'**) <br>\n",
    "{'Tom': 3, \"It's\": 2, 'an': 1, 'ugly': 1, 'day': 1, 'today': 2, 'Jerry': 2, 'I': 2, 'know': 1, 'think': 1, 'it': 2, 'may': 1, 'rain': 2, 'the': 1, 'middle': 1, 'of': 1, 'summer': 1, \"shouldn't\": 1, 'That': 1, 'would': 1, 'be': 1, 'weird': 1, 'Yeah': 1, 'especially': 1, 'since': 1, \"it's\": 1, 'ninety': 1, 'degrees': 1, 'outside': 1}"
   ]
  },
  {
   "cell_type": "code",
   "execution_count": 13,
   "metadata": {
    "nbgrader": {
     "grade": false,
     "grade_id": "name",
     "locked": false,
     "schema_version": 3,
     "solution": true
    }
   },
   "outputs": [],
   "source": [
    "def get_dict(file_name):\n",
    "    ''' สร้าง dictionary จากไฟล์ file_name'''\n",
    "    ### BEGIN SOLUTION\n",
    "    f = open(file_name, 'r')\n",
    "    word = []\n",
    "    r = f.readlines()\n",
    "    f.close()\n",
    "    for i in r :\n",
    "        sp = i.split()\n",
    "        for j in sp :\n",
    "            st = j.strip(':?,.')\n",
    "            word.append(st)\n",
    "    count = {}\n",
    "    for i in word :\n",
    "        if i not in count :\n",
    "            count[i] = 1\n",
    "        else :\n",
    "            count[i] = count[i] + 1\n",
    "    return count\n",
    "    ### END SOLUTION    "
   ]
  },
  {
   "cell_type": "code",
   "execution_count": 1,
   "metadata": {},
   "outputs": [
    {
     "ename": "NameError",
     "evalue": "name 'get_dict' is not defined",
     "output_type": "error",
     "traceback": [
      "\u001b[1;31m---------------------------------------------------------------------------\u001b[0m",
      "\u001b[1;31mNameError\u001b[0m                                 Traceback (most recent call last)",
      "Input \u001b[1;32mIn [1]\u001b[0m, in \u001b[0;36m<cell line: 3>\u001b[1;34m()\u001b[0m\n\u001b[0;32m      1\u001b[0m \u001b[38;5;124;03m'''ตรวจสอบผลลัพธ์ของโปรแกรมด้วยการรันที่ cell นี้'''\u001b[39;00m\n\u001b[0;32m      2\u001b[0m \u001b[38;5;124;03m'''ตัวอย่าง get_dict(\"ใส่ชื่อไฟล์.txt\")'''\u001b[39;00m\n\u001b[1;32m----> 3\u001b[0m \u001b[43mget_dict\u001b[49m()\n",
      "\u001b[1;31mNameError\u001b[0m: name 'get_dict' is not defined"
     ]
    }
   ],
   "source": [
    "'''ตรวจสอบผลลัพธ์ของโปรแกรมด้วยการรันที่ cell นี้'''\n",
    "'''ตัวอย่าง get_dict(\"ใส่ชื่อไฟล์.txt\")'''\n",
    "get_dict()"
   ]
  },
  {
   "cell_type": "code",
   "execution_count": 15,
   "metadata": {
    "nbgrader": {
     "grade": true,
     "grade_id": "cell-b082fbfab4c14322",
     "locked": true,
     "points": 1,
     "schema_version": 3,
     "solution": false,
     "task": false
    }
   },
   "outputs": [],
   "source": [
    "'''ตรวจสอบผลการคำนวณและการแสดงผลลัพธ์ให้เหมือนกับโจทย์ที่กำหนดให้'''\n",
    "assert get_dict('conversation1.txt') == {'Tom': 2, 'Hi': 1, 'I': 2, 'am': 2, 'Ana': 2}\n",
    "assert get_dict('conversation2.txt') == {'Mr': 3, 'Bean': 3, 'Good': 2, 'morning': 2, 'Mrs': 2, 'Jones': 2, 'How': 1, 'are': 1, 'you': 1, \"I'm\": 1, 'fine': 1, 'Thanks': 1}\n",
    "print('OK')"
   ]
  },
  {
   "cell_type": "code",
   "execution_count": null,
   "metadata": {
    "nbgrader": {
     "grade": true,
     "grade_id": "cell-4edb7a354d38a7f0",
     "locked": true,
     "points": 1,
     "schema_version": 3,
     "solution": false,
     "task": false
    }
   },
   "outputs": [],
   "source": [
    "'''เทสลับ'''\n",
    "# ### BEGIN HIDDEN TESTS\n",
    "assert get_dict('conversation3.txt') == {'Tom': 3, \"It's\": 2, 'an': 1, 'ugly': 1, 'day': 1, 'today': 2, 'Jerry': 2, 'I': 2, 'know': 1, 'think': 1, 'it': 2, 'may': 1, 'rain': 2, 'the': 1, 'middle': 1, 'of': 1, 'summer': 1, \"shouldn't\": 1, 'That': 1, 'would': 1, 'be': 1, 'weird': 1, 'Yeah': 1, 'especially': 1, 'since': 1, \"it's\": 1, 'ninety': 1, 'degrees': 1, 'outside': 1},get_dict('conversation3.txt')\n",
    "assert get_dict('conversation4.txt') == {'Baby': 3, 'Shark': 3, 'doodoo': 6},get_dict('conversation4.txt')\n",
    "# ### END HIDDEN TESTS"
   ]
  }
 ],
 "metadata": {
  "celltoolbar": "Create Assignment",
  "kernelspec": {
   "display_name": "Python 3 (ipykernel)",
   "language": "python",
   "name": "python3"
  },
  "language_info": {
   "codemirror_mode": {
    "name": "ipython",
    "version": 3
   },
   "file_extension": ".py",
   "mimetype": "text/x-python",
   "name": "python",
   "nbconvert_exporter": "python",
   "pygments_lexer": "ipython3",
   "version": "3.9.12"
  }
 },
 "nbformat": 4,
 "nbformat_minor": 1
}
